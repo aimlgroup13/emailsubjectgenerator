{
 "cells": [
  {
   "cell_type": "code",
   "execution_count": 58,
   "metadata": {
    "collapsed": true,
    "id": "nLzU4c0D0CaY",
    "jupyter": {
     "outputs_hidden": true
    }
   },
   "outputs": [],
   "source": []
  },
  {
   "cell_type": "code",
   "execution_count": 151,
   "metadata": {
    "id": "VxeZL2sRzw3v"
   },
   "outputs": [],
   "source": [
    "import torch\n",
    "from transformers import AutoTokenizer, AutoModelForCausalLM\n",
    "from transformers import BartForConditionalGeneration, BartTokenizer"
   ]
  },
  {
   "cell_type": "code",
   "execution_count": 152,
   "metadata": {
    "id": "_lWayDBrz0wI"
   },
   "outputs": [],
   "source": [
    "MODEL_NAME = \"sbtraining2020/email_bart_1\""
   ]
  },
  {
   "cell_type": "code",
   "execution_count": 153,
   "metadata": {
    "id": "ffgZcushE5vb"
   },
   "outputs": [],
   "source": [
    "max_seq_length = 2048\n",
    "dtype = None\n",
    "load_in_4bit = True"
   ]
  },
  {
   "cell_type": "code",
   "execution_count": 155,
   "metadata": {
    "id": "N_AaxMrXFDel"
   },
   "outputs": [],
   "source": [
    "from transformers import AutoTokenizer, AutoModelForCausalLM\n",
    "hf_tokenizer =BartTokenizer.from_pretrained(MODEL_NAME) # AutoTokenizer.from_pretrained( MODEL_NAME) # \"sbtraining2020/esubjectgen_llama31_clean\")\n",
    "hf_model = BartForConditionalGeneration.from_pretrained(MODEL_NAME) #\"sbtraining2020/esubjectgen_llama31_clean\")"
   ]
  },
  {
   "cell_type": "code",
   "execution_count": null,
   "metadata": {
    "colab": {
     "base_uri": "https://localhost:8080/"
    },
    "id": "Q-pyq96l6dXU",
    "outputId": "d8f0cdb6-48e2-4aa2-9d2f-94dd675aab7c"
   },
   "outputs": [],
   "source": [
    "device = torch.device(\"cuda\" if torch.cuda.is_available() else \"cpu\")\n",
    "hf_model.to(device)\n",
    "#hf_model.eval()"
   ]
  },
  {
   "cell_type": "code",
   "execution_count": 166,
   "metadata": {
    "id": "ltNpL5jZ9bn_"
   },
   "outputs": [],
   "source": []
  },
  {
   "cell_type": "code",
   "execution_count": 168,
   "metadata": {
    "id": "EwNLEeiTIrYz"
   },
   "outputs": [],
   "source": [
    "def get_email_subject(text, max_length=500):\n",
    "    \"\"\"\n",
    "    Generates a email subject for the given text using a pre-trained model.\n",
    "\n",
    "    Args:\n",
    "        text (str): Email text to generate subject.\n",
    "        max_length (int): The maximum length of the input text for the model.\n",
    "\n",
    "    Returns:\n",
    "        str: The generated subject for the input text.\n",
    "    \"\"\"\n",
    "    # Encode the input text using the tokenizer. The 'pt' indicates PyTorch tensors.\n",
    "    inputs = hf_tokenizer.encode(text, return_tensors=\"pt\", max_length=max_length, truncation=False)\n",
    "\n",
    "    # Move the encoded text to the same device as the model (e.g., GPU or CPU)\n",
    "    inputs = inputs.to(device)\n",
    "\n",
    "    # Generate summary IDs with the model. num_beams controls the beam search width.\n",
    "    # early_stopping is set to False for a thorough search, though it can be set to True for faster results.\n",
    "    subject_ids = hf_model.generate(inputs, max_length=500, num_beams=30, early_stopping=False)\n",
    "\n",
    "    # Decode the generated IDs back to text, skipping special tokens like padding or EOS.\n",
    "    subject = hf_tokenizer.decode(subject_ids[0], skip_special_tokens=True)\n",
    "\n",
    "    # Return the generated subject\n",
    "    return subject"
   ]
  },
  {
   "cell_type": "code",
   "execution_count": 169,
   "metadata": {
    "id": "G2d-qJP1qrR8"
   },
   "outputs": [],
   "source": [
    "email_text = \"\"\"Plove is going to go to Dallas.\n",
    "We are going to leave next Friday when he  gets done (7ish) and go up for the game.\n",
    "The game is at 11 in the morning,  so we will come home directly after it.\n",
    "Plove says he has a friend who has a  place in Dallas that we can crash at if we don't want to pay for a hotel.\n",
    "Do you want to go?\n",
    "        \"\"\""
   ]
  },
  {
   "cell_type": "code",
   "execution_count": 170,
   "metadata": {
    "id": "ExbmctSeDVmI"
   },
   "outputs": [],
   "source": [
    "email_text = \"\"\"\n",
    "Michelle Here are my very minor comments.\n",
    "However we still need to wait on any additions, based on meeting with SME's today.\n",
    "One concern is the firing of the learner who performs  bad in the final two scenarios.\n",
    "Do we face any copyright issues using the CNN type themes?\n",
    "In addition, I think we need to stay clear of anything that remotely seems like California or anything that really happen with Enron?\n",
    "(i.e.So-cal Waha) In addition, comments on regulatory issues may be a problem (i.e.California Legislature).\n",
    "Sheri  When you read all the scripts together and due to the similar mechanics being taught it appears very repetitious.\n",
    "Thus I do believe we need to maybe use a \"Dateline\" type theme for one, and a \"60 Minute\" type theme for another scenario vice just the CNN type theme.\n",
    "In the last two scenarios can we include a promotion out of the associate program for the stellar performers (i.e.title change to manager)?\n",
    "Cheers Kirk\n",
    "\"\"\""
   ]
  },
  {
   "cell_type": "code",
   "execution_count": 171,
   "metadata": {
    "id": "lOHCdgIPsBDT"
   },
   "outputs": [],
   "source": [
    "#email_text = \"\"\"The following reports have been waiting for your approval for more than 4 days. Please review. Owner: James W Reitmeyer Report Name: JReitmeyer 10/24/01 Days In Mgr. Queue: 5 \"\"\"\n"
   ]
  },
  {
   "cell_type": "code",
   "execution_count": 172,
   "metadata": {
    "id": "qy85x_ie6IM0"
   },
   "outputs": [],
   "source": [
    "result = get_email_subject(email_text)"
   ]
  },
  {
   "cell_type": "code",
   "execution_count": 164,
   "metadata": {
    "id": "z289_q7C6UrB"
   },
   "outputs": [],
   "source": []
  },
  {
   "cell_type": "code",
   "execution_count": 165,
   "metadata": {
    "colab": {
     "base_uri": "https://localhost:8080/"
    },
    "id": "QKUmiN0ws02V",
    "outputId": "1bccbea4-cb64-4e7e-af88-9bd2a23f35e9"
   },
   "outputs": [
    {
     "data": {
      "text/plain": [
       "1"
      ]
     },
     "execution_count": 165,
     "metadata": {},
     "output_type": "execute_result"
    }
   ],
   "source": []
  },
  {
   "cell_type": "code",
   "execution_count": 166,
   "metadata": {
    "colab": {
     "base_uri": "https://localhost:8080/",
     "height": 36
    },
    "id": "EiBK4oikCB3C",
    "outputId": "4235ef68-f051-4cca-da85-34eb3e047ca4"
   },
   "outputs": [
    {
     "data": {
      "application/vnd.google.colaboratory.intrinsic+json": {
       "type": "string"
      },
      "text/plain": [
       "\"Comments from SME's\""
      ]
     },
     "execution_count": 166,
     "metadata": {},
     "output_type": "execute_result"
    }
   ],
   "source": [
    "result"
   ]
  },
  {
   "cell_type": "code",
   "execution_count": null,
   "metadata": {
    "id": "v0NXqQE3CUPT"
   },
   "outputs": [],
   "source": []
  }
 ],
 "metadata": {
  "accelerator": "GPU",
  "colab": {
   "gpuType": "T4",
   "provenance": []
  },
  "kernelspec": {
   "display_name": "Python 3 (ipykernel)",
   "language": "python",
   "name": "python3"
  },
  "language_info": {
   "codemirror_mode": {
    "name": "ipython",
    "version": 3
   },
   "file_extension": ".py",
   "mimetype": "text/x-python",
   "name": "python",
   "nbconvert_exporter": "python",
   "pygments_lexer": "ipython3",
   "version": "3.10.12"
  }
 },
 "nbformat": 4,
 "nbformat_minor": 4
}
