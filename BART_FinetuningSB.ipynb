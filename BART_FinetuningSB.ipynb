{
  "nbformat": 4,
  "nbformat_minor": 0,
  "metadata": {
    "colab": {
      "provenance": [],
      "gpuType": "T4"
    },
    "kernelspec": {
      "name": "python3",
      "display_name": "Python 3"
    },
    "language_info": {
      "name": "python"
    },
    "accelerator": "GPU",
    "widgets": {
      "application/vnd.jupyter.widget-state+json": {
        "f7d311ceec954bdcbca00c56ae87962d": {
          "model_module": "@jupyter-widgets/controls",
          "model_name": "VBoxModel",
          "model_module_version": "1.5.0",
          "state": {
            "_dom_classes": [],
            "_model_module": "@jupyter-widgets/controls",
            "_model_module_version": "1.5.0",
            "_model_name": "VBoxModel",
            "_view_count": null,
            "_view_module": "@jupyter-widgets/controls",
            "_view_module_version": "1.5.0",
            "_view_name": "VBoxView",
            "box_style": "",
            "children": [
              "IPY_MODEL_a4e4c529f7164712aa0cb4e6ec696eb0",
              "IPY_MODEL_1d4d887e4c3a4fad8b2eaee754f71c5c",
              "IPY_MODEL_586be930a60e4550ab0d0229ae087ba2",
              "IPY_MODEL_72ec19e8b2e84e1482a389c51a58bfd2"
            ],
            "layout": "IPY_MODEL_4617674047d5419cabaf1accdb07dd92"
          }
        },
        "f038c8f891f64e66b3fd33d12140e00b": {
          "model_module": "@jupyter-widgets/controls",
          "model_name": "HTMLModel",
          "model_module_version": "1.5.0",
          "state": {
            "_dom_classes": [],
            "_model_module": "@jupyter-widgets/controls",
            "_model_module_version": "1.5.0",
            "_model_name": "HTMLModel",
            "_view_count": null,
            "_view_module": "@jupyter-widgets/controls",
            "_view_module_version": "1.5.0",
            "_view_name": "HTMLView",
            "description": "",
            "description_tooltip": null,
            "layout": "IPY_MODEL_0beb662af1c84f6aa42c806650b8281b",
            "placeholder": "​",
            "style": "IPY_MODEL_a9bda23e3874407daa8635def3df8850",
            "value": "<center> <img\nsrc=https://huggingface.co/front/assets/huggingface_logo-noborder.svg\nalt='Hugging Face'> <br> Copy a token from <a\nhref=\"https://huggingface.co/settings/tokens\" target=\"_blank\">your Hugging Face\ntokens page</a> and paste it below. <br> Immediately click login after copying\nyour token or it might be stored in plain text in this notebook file. </center>"
          }
        },
        "caf1a656862e46eb9ecd4d64a892dfd0": {
          "model_module": "@jupyter-widgets/controls",
          "model_name": "PasswordModel",
          "model_module_version": "1.5.0",
          "state": {
            "_dom_classes": [],
            "_model_module": "@jupyter-widgets/controls",
            "_model_module_version": "1.5.0",
            "_model_name": "PasswordModel",
            "_view_count": null,
            "_view_module": "@jupyter-widgets/controls",
            "_view_module_version": "1.5.0",
            "_view_name": "PasswordView",
            "continuous_update": true,
            "description": "Token:",
            "description_tooltip": null,
            "disabled": false,
            "layout": "IPY_MODEL_b3a620ef6d874b68b5446cbaffde2615",
            "placeholder": "​",
            "style": "IPY_MODEL_7c930df721874e20b401a2e1bbd6ffbe",
            "value": ""
          }
        },
        "a2faa7fdb2e541c7a4f6103f474bfdf9": {
          "model_module": "@jupyter-widgets/controls",
          "model_name": "CheckboxModel",
          "model_module_version": "1.5.0",
          "state": {
            "_dom_classes": [],
            "_model_module": "@jupyter-widgets/controls",
            "_model_module_version": "1.5.0",
            "_model_name": "CheckboxModel",
            "_view_count": null,
            "_view_module": "@jupyter-widgets/controls",
            "_view_module_version": "1.5.0",
            "_view_name": "CheckboxView",
            "description": "Add token as git credential?",
            "description_tooltip": null,
            "disabled": false,
            "indent": true,
            "layout": "IPY_MODEL_448ed6c92f224007b601e64e1f6f99cf",
            "style": "IPY_MODEL_810d26d7dce44af3a3eda0306949fc37",
            "value": true
          }
        },
        "893fcd8e3e3a43869f5472f69fdcf061": {
          "model_module": "@jupyter-widgets/controls",
          "model_name": "ButtonModel",
          "model_module_version": "1.5.0",
          "state": {
            "_dom_classes": [],
            "_model_module": "@jupyter-widgets/controls",
            "_model_module_version": "1.5.0",
            "_model_name": "ButtonModel",
            "_view_count": null,
            "_view_module": "@jupyter-widgets/controls",
            "_view_module_version": "1.5.0",
            "_view_name": "ButtonView",
            "button_style": "",
            "description": "Login",
            "disabled": false,
            "icon": "",
            "layout": "IPY_MODEL_5d5fbc9806004e7d8d57a3b0c14cc3df",
            "style": "IPY_MODEL_7caed462f248478daf37632d49021557",
            "tooltip": ""
          }
        },
        "ac68f9ed8f0549a1aa0c1eec467fcde3": {
          "model_module": "@jupyter-widgets/controls",
          "model_name": "HTMLModel",
          "model_module_version": "1.5.0",
          "state": {
            "_dom_classes": [],
            "_model_module": "@jupyter-widgets/controls",
            "_model_module_version": "1.5.0",
            "_model_name": "HTMLModel",
            "_view_count": null,
            "_view_module": "@jupyter-widgets/controls",
            "_view_module_version": "1.5.0",
            "_view_name": "HTMLView",
            "description": "",
            "description_tooltip": null,
            "layout": "IPY_MODEL_1fea9c548ae349c394608d49d9178c79",
            "placeholder": "​",
            "style": "IPY_MODEL_006a1703598f4799b738edd21866e781",
            "value": "\n<b>Pro Tip:</b> If you don't already have one, you can create a dedicated\n'notebooks' token with 'write' access, that you can then easily reuse for all\nnotebooks. </center>"
          }
        },
        "4617674047d5419cabaf1accdb07dd92": {
          "model_module": "@jupyter-widgets/base",
          "model_name": "LayoutModel",
          "model_module_version": "1.2.0",
          "state": {
            "_model_module": "@jupyter-widgets/base",
            "_model_module_version": "1.2.0",
            "_model_name": "LayoutModel",
            "_view_count": null,
            "_view_module": "@jupyter-widgets/base",
            "_view_module_version": "1.2.0",
            "_view_name": "LayoutView",
            "align_content": null,
            "align_items": "center",
            "align_self": null,
            "border": null,
            "bottom": null,
            "display": "flex",
            "flex": null,
            "flex_flow": "column",
            "grid_area": null,
            "grid_auto_columns": null,
            "grid_auto_flow": null,
            "grid_auto_rows": null,
            "grid_column": null,
            "grid_gap": null,
            "grid_row": null,
            "grid_template_areas": null,
            "grid_template_columns": null,
            "grid_template_rows": null,
            "height": null,
            "justify_content": null,
            "justify_items": null,
            "left": null,
            "margin": null,
            "max_height": null,
            "max_width": null,
            "min_height": null,
            "min_width": null,
            "object_fit": null,
            "object_position": null,
            "order": null,
            "overflow": null,
            "overflow_x": null,
            "overflow_y": null,
            "padding": null,
            "right": null,
            "top": null,
            "visibility": null,
            "width": "50%"
          }
        },
        "0beb662af1c84f6aa42c806650b8281b": {
          "model_module": "@jupyter-widgets/base",
          "model_name": "LayoutModel",
          "model_module_version": "1.2.0",
          "state": {
            "_model_module": "@jupyter-widgets/base",
            "_model_module_version": "1.2.0",
            "_model_name": "LayoutModel",
            "_view_count": null,
            "_view_module": "@jupyter-widgets/base",
            "_view_module_version": "1.2.0",
            "_view_name": "LayoutView",
            "align_content": null,
            "align_items": null,
            "align_self": null,
            "border": null,
            "bottom": null,
            "display": null,
            "flex": null,
            "flex_flow": null,
            "grid_area": null,
            "grid_auto_columns": null,
            "grid_auto_flow": null,
            "grid_auto_rows": null,
            "grid_column": null,
            "grid_gap": null,
            "grid_row": null,
            "grid_template_areas": null,
            "grid_template_columns": null,
            "grid_template_rows": null,
            "height": null,
            "justify_content": null,
            "justify_items": null,
            "left": null,
            "margin": null,
            "max_height": null,
            "max_width": null,
            "min_height": null,
            "min_width": null,
            "object_fit": null,
            "object_position": null,
            "order": null,
            "overflow": null,
            "overflow_x": null,
            "overflow_y": null,
            "padding": null,
            "right": null,
            "top": null,
            "visibility": null,
            "width": null
          }
        },
        "a9bda23e3874407daa8635def3df8850": {
          "model_module": "@jupyter-widgets/controls",
          "model_name": "DescriptionStyleModel",
          "model_module_version": "1.5.0",
          "state": {
            "_model_module": "@jupyter-widgets/controls",
            "_model_module_version": "1.5.0",
            "_model_name": "DescriptionStyleModel",
            "_view_count": null,
            "_view_module": "@jupyter-widgets/base",
            "_view_module_version": "1.2.0",
            "_view_name": "StyleView",
            "description_width": ""
          }
        },
        "b3a620ef6d874b68b5446cbaffde2615": {
          "model_module": "@jupyter-widgets/base",
          "model_name": "LayoutModel",
          "model_module_version": "1.2.0",
          "state": {
            "_model_module": "@jupyter-widgets/base",
            "_model_module_version": "1.2.0",
            "_model_name": "LayoutModel",
            "_view_count": null,
            "_view_module": "@jupyter-widgets/base",
            "_view_module_version": "1.2.0",
            "_view_name": "LayoutView",
            "align_content": null,
            "align_items": null,
            "align_self": null,
            "border": null,
            "bottom": null,
            "display": null,
            "flex": null,
            "flex_flow": null,
            "grid_area": null,
            "grid_auto_columns": null,
            "grid_auto_flow": null,
            "grid_auto_rows": null,
            "grid_column": null,
            "grid_gap": null,
            "grid_row": null,
            "grid_template_areas": null,
            "grid_template_columns": null,
            "grid_template_rows": null,
            "height": null,
            "justify_content": null,
            "justify_items": null,
            "left": null,
            "margin": null,
            "max_height": null,
            "max_width": null,
            "min_height": null,
            "min_width": null,
            "object_fit": null,
            "object_position": null,
            "order": null,
            "overflow": null,
            "overflow_x": null,
            "overflow_y": null,
            "padding": null,
            "right": null,
            "top": null,
            "visibility": null,
            "width": null
          }
        },
        "7c930df721874e20b401a2e1bbd6ffbe": {
          "model_module": "@jupyter-widgets/controls",
          "model_name": "DescriptionStyleModel",
          "model_module_version": "1.5.0",
          "state": {
            "_model_module": "@jupyter-widgets/controls",
            "_model_module_version": "1.5.0",
            "_model_name": "DescriptionStyleModel",
            "_view_count": null,
            "_view_module": "@jupyter-widgets/base",
            "_view_module_version": "1.2.0",
            "_view_name": "StyleView",
            "description_width": ""
          }
        },
        "448ed6c92f224007b601e64e1f6f99cf": {
          "model_module": "@jupyter-widgets/base",
          "model_name": "LayoutModel",
          "model_module_version": "1.2.0",
          "state": {
            "_model_module": "@jupyter-widgets/base",
            "_model_module_version": "1.2.0",
            "_model_name": "LayoutModel",
            "_view_count": null,
            "_view_module": "@jupyter-widgets/base",
            "_view_module_version": "1.2.0",
            "_view_name": "LayoutView",
            "align_content": null,
            "align_items": null,
            "align_self": null,
            "border": null,
            "bottom": null,
            "display": null,
            "flex": null,
            "flex_flow": null,
            "grid_area": null,
            "grid_auto_columns": null,
            "grid_auto_flow": null,
            "grid_auto_rows": null,
            "grid_column": null,
            "grid_gap": null,
            "grid_row": null,
            "grid_template_areas": null,
            "grid_template_columns": null,
            "grid_template_rows": null,
            "height": null,
            "justify_content": null,
            "justify_items": null,
            "left": null,
            "margin": null,
            "max_height": null,
            "max_width": null,
            "min_height": null,
            "min_width": null,
            "object_fit": null,
            "object_position": null,
            "order": null,
            "overflow": null,
            "overflow_x": null,
            "overflow_y": null,
            "padding": null,
            "right": null,
            "top": null,
            "visibility": null,
            "width": null
          }
        },
        "810d26d7dce44af3a3eda0306949fc37": {
          "model_module": "@jupyter-widgets/controls",
          "model_name": "DescriptionStyleModel",
          "model_module_version": "1.5.0",
          "state": {
            "_model_module": "@jupyter-widgets/controls",
            "_model_module_version": "1.5.0",
            "_model_name": "DescriptionStyleModel",
            "_view_count": null,
            "_view_module": "@jupyter-widgets/base",
            "_view_module_version": "1.2.0",
            "_view_name": "StyleView",
            "description_width": ""
          }
        },
        "5d5fbc9806004e7d8d57a3b0c14cc3df": {
          "model_module": "@jupyter-widgets/base",
          "model_name": "LayoutModel",
          "model_module_version": "1.2.0",
          "state": {
            "_model_module": "@jupyter-widgets/base",
            "_model_module_version": "1.2.0",
            "_model_name": "LayoutModel",
            "_view_count": null,
            "_view_module": "@jupyter-widgets/base",
            "_view_module_version": "1.2.0",
            "_view_name": "LayoutView",
            "align_content": null,
            "align_items": null,
            "align_self": null,
            "border": null,
            "bottom": null,
            "display": null,
            "flex": null,
            "flex_flow": null,
            "grid_area": null,
            "grid_auto_columns": null,
            "grid_auto_flow": null,
            "grid_auto_rows": null,
            "grid_column": null,
            "grid_gap": null,
            "grid_row": null,
            "grid_template_areas": null,
            "grid_template_columns": null,
            "grid_template_rows": null,
            "height": null,
            "justify_content": null,
            "justify_items": null,
            "left": null,
            "margin": null,
            "max_height": null,
            "max_width": null,
            "min_height": null,
            "min_width": null,
            "object_fit": null,
            "object_position": null,
            "order": null,
            "overflow": null,
            "overflow_x": null,
            "overflow_y": null,
            "padding": null,
            "right": null,
            "top": null,
            "visibility": null,
            "width": null
          }
        },
        "7caed462f248478daf37632d49021557": {
          "model_module": "@jupyter-widgets/controls",
          "model_name": "ButtonStyleModel",
          "model_module_version": "1.5.0",
          "state": {
            "_model_module": "@jupyter-widgets/controls",
            "_model_module_version": "1.5.0",
            "_model_name": "ButtonStyleModel",
            "_view_count": null,
            "_view_module": "@jupyter-widgets/base",
            "_view_module_version": "1.2.0",
            "_view_name": "StyleView",
            "button_color": null,
            "font_weight": ""
          }
        },
        "1fea9c548ae349c394608d49d9178c79": {
          "model_module": "@jupyter-widgets/base",
          "model_name": "LayoutModel",
          "model_module_version": "1.2.0",
          "state": {
            "_model_module": "@jupyter-widgets/base",
            "_model_module_version": "1.2.0",
            "_model_name": "LayoutModel",
            "_view_count": null,
            "_view_module": "@jupyter-widgets/base",
            "_view_module_version": "1.2.0",
            "_view_name": "LayoutView",
            "align_content": null,
            "align_items": null,
            "align_self": null,
            "border": null,
            "bottom": null,
            "display": null,
            "flex": null,
            "flex_flow": null,
            "grid_area": null,
            "grid_auto_columns": null,
            "grid_auto_flow": null,
            "grid_auto_rows": null,
            "grid_column": null,
            "grid_gap": null,
            "grid_row": null,
            "grid_template_areas": null,
            "grid_template_columns": null,
            "grid_template_rows": null,
            "height": null,
            "justify_content": null,
            "justify_items": null,
            "left": null,
            "margin": null,
            "max_height": null,
            "max_width": null,
            "min_height": null,
            "min_width": null,
            "object_fit": null,
            "object_position": null,
            "order": null,
            "overflow": null,
            "overflow_x": null,
            "overflow_y": null,
            "padding": null,
            "right": null,
            "top": null,
            "visibility": null,
            "width": null
          }
        },
        "006a1703598f4799b738edd21866e781": {
          "model_module": "@jupyter-widgets/controls",
          "model_name": "DescriptionStyleModel",
          "model_module_version": "1.5.0",
          "state": {
            "_model_module": "@jupyter-widgets/controls",
            "_model_module_version": "1.5.0",
            "_model_name": "DescriptionStyleModel",
            "_view_count": null,
            "_view_module": "@jupyter-widgets/base",
            "_view_module_version": "1.2.0",
            "_view_name": "StyleView",
            "description_width": ""
          }
        },
        "3bc0a5880840455d9129c09116f0682e": {
          "model_module": "@jupyter-widgets/controls",
          "model_name": "LabelModel",
          "model_module_version": "1.5.0",
          "state": {
            "_dom_classes": [],
            "_model_module": "@jupyter-widgets/controls",
            "_model_module_version": "1.5.0",
            "_model_name": "LabelModel",
            "_view_count": null,
            "_view_module": "@jupyter-widgets/controls",
            "_view_module_version": "1.5.0",
            "_view_name": "LabelView",
            "description": "",
            "description_tooltip": null,
            "layout": "IPY_MODEL_aeeb3f68f99c4f0088efd5de35c8d0aa",
            "placeholder": "​",
            "style": "IPY_MODEL_8b1ebd67965d4d74beeb6f56d220b2a8",
            "value": "Connecting..."
          }
        },
        "aeeb3f68f99c4f0088efd5de35c8d0aa": {
          "model_module": "@jupyter-widgets/base",
          "model_name": "LayoutModel",
          "model_module_version": "1.2.0",
          "state": {
            "_model_module": "@jupyter-widgets/base",
            "_model_module_version": "1.2.0",
            "_model_name": "LayoutModel",
            "_view_count": null,
            "_view_module": "@jupyter-widgets/base",
            "_view_module_version": "1.2.0",
            "_view_name": "LayoutView",
            "align_content": null,
            "align_items": null,
            "align_self": null,
            "border": null,
            "bottom": null,
            "display": null,
            "flex": null,
            "flex_flow": null,
            "grid_area": null,
            "grid_auto_columns": null,
            "grid_auto_flow": null,
            "grid_auto_rows": null,
            "grid_column": null,
            "grid_gap": null,
            "grid_row": null,
            "grid_template_areas": null,
            "grid_template_columns": null,
            "grid_template_rows": null,
            "height": null,
            "justify_content": null,
            "justify_items": null,
            "left": null,
            "margin": null,
            "max_height": null,
            "max_width": null,
            "min_height": null,
            "min_width": null,
            "object_fit": null,
            "object_position": null,
            "order": null,
            "overflow": null,
            "overflow_x": null,
            "overflow_y": null,
            "padding": null,
            "right": null,
            "top": null,
            "visibility": null,
            "width": null
          }
        },
        "8b1ebd67965d4d74beeb6f56d220b2a8": {
          "model_module": "@jupyter-widgets/controls",
          "model_name": "DescriptionStyleModel",
          "model_module_version": "1.5.0",
          "state": {
            "_model_module": "@jupyter-widgets/controls",
            "_model_module_version": "1.5.0",
            "_model_name": "DescriptionStyleModel",
            "_view_count": null,
            "_view_module": "@jupyter-widgets/base",
            "_view_module_version": "1.2.0",
            "_view_name": "StyleView",
            "description_width": ""
          }
        },
        "a4e4c529f7164712aa0cb4e6ec696eb0": {
          "model_module": "@jupyter-widgets/controls",
          "model_name": "LabelModel",
          "model_module_version": "1.5.0",
          "state": {
            "_dom_classes": [],
            "_model_module": "@jupyter-widgets/controls",
            "_model_module_version": "1.5.0",
            "_model_name": "LabelModel",
            "_view_count": null,
            "_view_module": "@jupyter-widgets/controls",
            "_view_module_version": "1.5.0",
            "_view_name": "LabelView",
            "description": "",
            "description_tooltip": null,
            "layout": "IPY_MODEL_a66c8b79a8ce4706883aa7609e794b3b",
            "placeholder": "​",
            "style": "IPY_MODEL_a6aed7a328224514b475c27b336946d1",
            "value": "Token is valid (permission: fineGrained)."
          }
        },
        "1d4d887e4c3a4fad8b2eaee754f71c5c": {
          "model_module": "@jupyter-widgets/controls",
          "model_name": "LabelModel",
          "model_module_version": "1.5.0",
          "state": {
            "_dom_classes": [],
            "_model_module": "@jupyter-widgets/controls",
            "_model_module_version": "1.5.0",
            "_model_name": "LabelModel",
            "_view_count": null,
            "_view_module": "@jupyter-widgets/controls",
            "_view_module_version": "1.5.0",
            "_view_name": "LabelView",
            "description": "",
            "description_tooltip": null,
            "layout": "IPY_MODEL_1b1f786b58594f11b0db8a4c3d312551",
            "placeholder": "​",
            "style": "IPY_MODEL_815c446f6e4e43c4b9e52ab30a2d4dd6",
            "value": "Your token has been saved in your configured git credential helpers (store)."
          }
        },
        "586be930a60e4550ab0d0229ae087ba2": {
          "model_module": "@jupyter-widgets/controls",
          "model_name": "LabelModel",
          "model_module_version": "1.5.0",
          "state": {
            "_dom_classes": [],
            "_model_module": "@jupyter-widgets/controls",
            "_model_module_version": "1.5.0",
            "_model_name": "LabelModel",
            "_view_count": null,
            "_view_module": "@jupyter-widgets/controls",
            "_view_module_version": "1.5.0",
            "_view_name": "LabelView",
            "description": "",
            "description_tooltip": null,
            "layout": "IPY_MODEL_da14edba73cd4ed9abb1c32b29187014",
            "placeholder": "​",
            "style": "IPY_MODEL_844d1cd1bebb45828df4f9c626e8db95",
            "value": "Your token has been saved to /root/.cache/huggingface/token"
          }
        },
        "72ec19e8b2e84e1482a389c51a58bfd2": {
          "model_module": "@jupyter-widgets/controls",
          "model_name": "LabelModel",
          "model_module_version": "1.5.0",
          "state": {
            "_dom_classes": [],
            "_model_module": "@jupyter-widgets/controls",
            "_model_module_version": "1.5.0",
            "_model_name": "LabelModel",
            "_view_count": null,
            "_view_module": "@jupyter-widgets/controls",
            "_view_module_version": "1.5.0",
            "_view_name": "LabelView",
            "description": "",
            "description_tooltip": null,
            "layout": "IPY_MODEL_41086d847bdc4987b91c6a4d92562557",
            "placeholder": "​",
            "style": "IPY_MODEL_6e6318ff5c6c46d6b042396067fb94ed",
            "value": "Login successful"
          }
        },
        "a66c8b79a8ce4706883aa7609e794b3b": {
          "model_module": "@jupyter-widgets/base",
          "model_name": "LayoutModel",
          "model_module_version": "1.2.0",
          "state": {
            "_model_module": "@jupyter-widgets/base",
            "_model_module_version": "1.2.0",
            "_model_name": "LayoutModel",
            "_view_count": null,
            "_view_module": "@jupyter-widgets/base",
            "_view_module_version": "1.2.0",
            "_view_name": "LayoutView",
            "align_content": null,
            "align_items": null,
            "align_self": null,
            "border": null,
            "bottom": null,
            "display": null,
            "flex": null,
            "flex_flow": null,
            "grid_area": null,
            "grid_auto_columns": null,
            "grid_auto_flow": null,
            "grid_auto_rows": null,
            "grid_column": null,
            "grid_gap": null,
            "grid_row": null,
            "grid_template_areas": null,
            "grid_template_columns": null,
            "grid_template_rows": null,
            "height": null,
            "justify_content": null,
            "justify_items": null,
            "left": null,
            "margin": null,
            "max_height": null,
            "max_width": null,
            "min_height": null,
            "min_width": null,
            "object_fit": null,
            "object_position": null,
            "order": null,
            "overflow": null,
            "overflow_x": null,
            "overflow_y": null,
            "padding": null,
            "right": null,
            "top": null,
            "visibility": null,
            "width": null
          }
        },
        "a6aed7a328224514b475c27b336946d1": {
          "model_module": "@jupyter-widgets/controls",
          "model_name": "DescriptionStyleModel",
          "model_module_version": "1.5.0",
          "state": {
            "_model_module": "@jupyter-widgets/controls",
            "_model_module_version": "1.5.0",
            "_model_name": "DescriptionStyleModel",
            "_view_count": null,
            "_view_module": "@jupyter-widgets/base",
            "_view_module_version": "1.2.0",
            "_view_name": "StyleView",
            "description_width": ""
          }
        },
        "1b1f786b58594f11b0db8a4c3d312551": {
          "model_module": "@jupyter-widgets/base",
          "model_name": "LayoutModel",
          "model_module_version": "1.2.0",
          "state": {
            "_model_module": "@jupyter-widgets/base",
            "_model_module_version": "1.2.0",
            "_model_name": "LayoutModel",
            "_view_count": null,
            "_view_module": "@jupyter-widgets/base",
            "_view_module_version": "1.2.0",
            "_view_name": "LayoutView",
            "align_content": null,
            "align_items": null,
            "align_self": null,
            "border": null,
            "bottom": null,
            "display": null,
            "flex": null,
            "flex_flow": null,
            "grid_area": null,
            "grid_auto_columns": null,
            "grid_auto_flow": null,
            "grid_auto_rows": null,
            "grid_column": null,
            "grid_gap": null,
            "grid_row": null,
            "grid_template_areas": null,
            "grid_template_columns": null,
            "grid_template_rows": null,
            "height": null,
            "justify_content": null,
            "justify_items": null,
            "left": null,
            "margin": null,
            "max_height": null,
            "max_width": null,
            "min_height": null,
            "min_width": null,
            "object_fit": null,
            "object_position": null,
            "order": null,
            "overflow": null,
            "overflow_x": null,
            "overflow_y": null,
            "padding": null,
            "right": null,
            "top": null,
            "visibility": null,
            "width": null
          }
        },
        "815c446f6e4e43c4b9e52ab30a2d4dd6": {
          "model_module": "@jupyter-widgets/controls",
          "model_name": "DescriptionStyleModel",
          "model_module_version": "1.5.0",
          "state": {
            "_model_module": "@jupyter-widgets/controls",
            "_model_module_version": "1.5.0",
            "_model_name": "DescriptionStyleModel",
            "_view_count": null,
            "_view_module": "@jupyter-widgets/base",
            "_view_module_version": "1.2.0",
            "_view_name": "StyleView",
            "description_width": ""
          }
        },
        "da14edba73cd4ed9abb1c32b29187014": {
          "model_module": "@jupyter-widgets/base",
          "model_name": "LayoutModel",
          "model_module_version": "1.2.0",
          "state": {
            "_model_module": "@jupyter-widgets/base",
            "_model_module_version": "1.2.0",
            "_model_name": "LayoutModel",
            "_view_count": null,
            "_view_module": "@jupyter-widgets/base",
            "_view_module_version": "1.2.0",
            "_view_name": "LayoutView",
            "align_content": null,
            "align_items": null,
            "align_self": null,
            "border": null,
            "bottom": null,
            "display": null,
            "flex": null,
            "flex_flow": null,
            "grid_area": null,
            "grid_auto_columns": null,
            "grid_auto_flow": null,
            "grid_auto_rows": null,
            "grid_column": null,
            "grid_gap": null,
            "grid_row": null,
            "grid_template_areas": null,
            "grid_template_columns": null,
            "grid_template_rows": null,
            "height": null,
            "justify_content": null,
            "justify_items": null,
            "left": null,
            "margin": null,
            "max_height": null,
            "max_width": null,
            "min_height": null,
            "min_width": null,
            "object_fit": null,
            "object_position": null,
            "order": null,
            "overflow": null,
            "overflow_x": null,
            "overflow_y": null,
            "padding": null,
            "right": null,
            "top": null,
            "visibility": null,
            "width": null
          }
        },
        "844d1cd1bebb45828df4f9c626e8db95": {
          "model_module": "@jupyter-widgets/controls",
          "model_name": "DescriptionStyleModel",
          "model_module_version": "1.5.0",
          "state": {
            "_model_module": "@jupyter-widgets/controls",
            "_model_module_version": "1.5.0",
            "_model_name": "DescriptionStyleModel",
            "_view_count": null,
            "_view_module": "@jupyter-widgets/base",
            "_view_module_version": "1.2.0",
            "_view_name": "StyleView",
            "description_width": ""
          }
        },
        "41086d847bdc4987b91c6a4d92562557": {
          "model_module": "@jupyter-widgets/base",
          "model_name": "LayoutModel",
          "model_module_version": "1.2.0",
          "state": {
            "_model_module": "@jupyter-widgets/base",
            "_model_module_version": "1.2.0",
            "_model_name": "LayoutModel",
            "_view_count": null,
            "_view_module": "@jupyter-widgets/base",
            "_view_module_version": "1.2.0",
            "_view_name": "LayoutView",
            "align_content": null,
            "align_items": null,
            "align_self": null,
            "border": null,
            "bottom": null,
            "display": null,
            "flex": null,
            "flex_flow": null,
            "grid_area": null,
            "grid_auto_columns": null,
            "grid_auto_flow": null,
            "grid_auto_rows": null,
            "grid_column": null,
            "grid_gap": null,
            "grid_row": null,
            "grid_template_areas": null,
            "grid_template_columns": null,
            "grid_template_rows": null,
            "height": null,
            "justify_content": null,
            "justify_items": null,
            "left": null,
            "margin": null,
            "max_height": null,
            "max_width": null,
            "min_height": null,
            "min_width": null,
            "object_fit": null,
            "object_position": null,
            "order": null,
            "overflow": null,
            "overflow_x": null,
            "overflow_y": null,
            "padding": null,
            "right": null,
            "top": null,
            "visibility": null,
            "width": null
          }
        },
        "6e6318ff5c6c46d6b042396067fb94ed": {
          "model_module": "@jupyter-widgets/controls",
          "model_name": "DescriptionStyleModel",
          "model_module_version": "1.5.0",
          "state": {
            "_model_module": "@jupyter-widgets/controls",
            "_model_module_version": "1.5.0",
            "_model_name": "DescriptionStyleModel",
            "_view_count": null,
            "_view_module": "@jupyter-widgets/base",
            "_view_module_version": "1.2.0",
            "_view_name": "StyleView",
            "description_width": ""
          }
        },
        "bd0df4fb32474e6aafef95957714d44e": {
          "model_module": "@jupyter-widgets/controls",
          "model_name": "HBoxModel",
          "model_module_version": "1.5.0",
          "state": {
            "_dom_classes": [],
            "_model_module": "@jupyter-widgets/controls",
            "_model_module_version": "1.5.0",
            "_model_name": "HBoxModel",
            "_view_count": null,
            "_view_module": "@jupyter-widgets/controls",
            "_view_module_version": "1.5.0",
            "_view_name": "HBoxView",
            "box_style": "",
            "children": [
              "IPY_MODEL_f4319d07540943908ae001f806a94ae4",
              "IPY_MODEL_5f625c5f7a044e22b45bb876f1ce074c",
              "IPY_MODEL_f5ed2bfd185a4b448df8d3ec6a67eb9f"
            ],
            "layout": "IPY_MODEL_8beffc12c2384c3dbcf1c54392d46e1c"
          }
        },
        "f4319d07540943908ae001f806a94ae4": {
          "model_module": "@jupyter-widgets/controls",
          "model_name": "HTMLModel",
          "model_module_version": "1.5.0",
          "state": {
            "_dom_classes": [],
            "_model_module": "@jupyter-widgets/controls",
            "_model_module_version": "1.5.0",
            "_model_name": "HTMLModel",
            "_view_count": null,
            "_view_module": "@jupyter-widgets/controls",
            "_view_module_version": "1.5.0",
            "_view_name": "HTMLView",
            "description": "",
            "description_tooltip": null,
            "layout": "IPY_MODEL_1eeca76f0836457e8116acd5609f9efa",
            "placeholder": "​",
            "style": "IPY_MODEL_1d6cd1ecb71b470d89be6ab0605466f0",
            "value": "model.safetensors: 100%"
          }
        },
        "5f625c5f7a044e22b45bb876f1ce074c": {
          "model_module": "@jupyter-widgets/controls",
          "model_name": "FloatProgressModel",
          "model_module_version": "1.5.0",
          "state": {
            "_dom_classes": [],
            "_model_module": "@jupyter-widgets/controls",
            "_model_module_version": "1.5.0",
            "_model_name": "FloatProgressModel",
            "_view_count": null,
            "_view_module": "@jupyter-widgets/controls",
            "_view_module_version": "1.5.0",
            "_view_name": "ProgressView",
            "bar_style": "success",
            "description": "",
            "description_tooltip": null,
            "layout": "IPY_MODEL_ec6193301a4447fca500d89efeed9218",
            "max": 557912620,
            "min": 0,
            "orientation": "horizontal",
            "style": "IPY_MODEL_801b145deffe473f8549bfb8d3d40daf",
            "value": 557912620
          }
        },
        "f5ed2bfd185a4b448df8d3ec6a67eb9f": {
          "model_module": "@jupyter-widgets/controls",
          "model_name": "HTMLModel",
          "model_module_version": "1.5.0",
          "state": {
            "_dom_classes": [],
            "_model_module": "@jupyter-widgets/controls",
            "_model_module_version": "1.5.0",
            "_model_name": "HTMLModel",
            "_view_count": null,
            "_view_module": "@jupyter-widgets/controls",
            "_view_module_version": "1.5.0",
            "_view_name": "HTMLView",
            "description": "",
            "description_tooltip": null,
            "layout": "IPY_MODEL_12ee9fe8a2a945deb1486edb9b923588",
            "placeholder": "​",
            "style": "IPY_MODEL_4ceec8406ee94f93b6657fe70523c926",
            "value": " 558M/558M [00:19&lt;00:00, 16.7MB/s]"
          }
        },
        "8beffc12c2384c3dbcf1c54392d46e1c": {
          "model_module": "@jupyter-widgets/base",
          "model_name": "LayoutModel",
          "model_module_version": "1.2.0",
          "state": {
            "_model_module": "@jupyter-widgets/base",
            "_model_module_version": "1.2.0",
            "_model_name": "LayoutModel",
            "_view_count": null,
            "_view_module": "@jupyter-widgets/base",
            "_view_module_version": "1.2.0",
            "_view_name": "LayoutView",
            "align_content": null,
            "align_items": null,
            "align_self": null,
            "border": null,
            "bottom": null,
            "display": null,
            "flex": null,
            "flex_flow": null,
            "grid_area": null,
            "grid_auto_columns": null,
            "grid_auto_flow": null,
            "grid_auto_rows": null,
            "grid_column": null,
            "grid_gap": null,
            "grid_row": null,
            "grid_template_areas": null,
            "grid_template_columns": null,
            "grid_template_rows": null,
            "height": null,
            "justify_content": null,
            "justify_items": null,
            "left": null,
            "margin": null,
            "max_height": null,
            "max_width": null,
            "min_height": null,
            "min_width": null,
            "object_fit": null,
            "object_position": null,
            "order": null,
            "overflow": null,
            "overflow_x": null,
            "overflow_y": null,
            "padding": null,
            "right": null,
            "top": null,
            "visibility": null,
            "width": null
          }
        },
        "1eeca76f0836457e8116acd5609f9efa": {
          "model_module": "@jupyter-widgets/base",
          "model_name": "LayoutModel",
          "model_module_version": "1.2.0",
          "state": {
            "_model_module": "@jupyter-widgets/base",
            "_model_module_version": "1.2.0",
            "_model_name": "LayoutModel",
            "_view_count": null,
            "_view_module": "@jupyter-widgets/base",
            "_view_module_version": "1.2.0",
            "_view_name": "LayoutView",
            "align_content": null,
            "align_items": null,
            "align_self": null,
            "border": null,
            "bottom": null,
            "display": null,
            "flex": null,
            "flex_flow": null,
            "grid_area": null,
            "grid_auto_columns": null,
            "grid_auto_flow": null,
            "grid_auto_rows": null,
            "grid_column": null,
            "grid_gap": null,
            "grid_row": null,
            "grid_template_areas": null,
            "grid_template_columns": null,
            "grid_template_rows": null,
            "height": null,
            "justify_content": null,
            "justify_items": null,
            "left": null,
            "margin": null,
            "max_height": null,
            "max_width": null,
            "min_height": null,
            "min_width": null,
            "object_fit": null,
            "object_position": null,
            "order": null,
            "overflow": null,
            "overflow_x": null,
            "overflow_y": null,
            "padding": null,
            "right": null,
            "top": null,
            "visibility": null,
            "width": null
          }
        },
        "1d6cd1ecb71b470d89be6ab0605466f0": {
          "model_module": "@jupyter-widgets/controls",
          "model_name": "DescriptionStyleModel",
          "model_module_version": "1.5.0",
          "state": {
            "_model_module": "@jupyter-widgets/controls",
            "_model_module_version": "1.5.0",
            "_model_name": "DescriptionStyleModel",
            "_view_count": null,
            "_view_module": "@jupyter-widgets/base",
            "_view_module_version": "1.2.0",
            "_view_name": "StyleView",
            "description_width": ""
          }
        },
        "ec6193301a4447fca500d89efeed9218": {
          "model_module": "@jupyter-widgets/base",
          "model_name": "LayoutModel",
          "model_module_version": "1.2.0",
          "state": {
            "_model_module": "@jupyter-widgets/base",
            "_model_module_version": "1.2.0",
            "_model_name": "LayoutModel",
            "_view_count": null,
            "_view_module": "@jupyter-widgets/base",
            "_view_module_version": "1.2.0",
            "_view_name": "LayoutView",
            "align_content": null,
            "align_items": null,
            "align_self": null,
            "border": null,
            "bottom": null,
            "display": null,
            "flex": null,
            "flex_flow": null,
            "grid_area": null,
            "grid_auto_columns": null,
            "grid_auto_flow": null,
            "grid_auto_rows": null,
            "grid_column": null,
            "grid_gap": null,
            "grid_row": null,
            "grid_template_areas": null,
            "grid_template_columns": null,
            "grid_template_rows": null,
            "height": null,
            "justify_content": null,
            "justify_items": null,
            "left": null,
            "margin": null,
            "max_height": null,
            "max_width": null,
            "min_height": null,
            "min_width": null,
            "object_fit": null,
            "object_position": null,
            "order": null,
            "overflow": null,
            "overflow_x": null,
            "overflow_y": null,
            "padding": null,
            "right": null,
            "top": null,
            "visibility": null,
            "width": null
          }
        },
        "801b145deffe473f8549bfb8d3d40daf": {
          "model_module": "@jupyter-widgets/controls",
          "model_name": "ProgressStyleModel",
          "model_module_version": "1.5.0",
          "state": {
            "_model_module": "@jupyter-widgets/controls",
            "_model_module_version": "1.5.0",
            "_model_name": "ProgressStyleModel",
            "_view_count": null,
            "_view_module": "@jupyter-widgets/base",
            "_view_module_version": "1.2.0",
            "_view_name": "StyleView",
            "bar_color": null,
            "description_width": ""
          }
        },
        "12ee9fe8a2a945deb1486edb9b923588": {
          "model_module": "@jupyter-widgets/base",
          "model_name": "LayoutModel",
          "model_module_version": "1.2.0",
          "state": {
            "_model_module": "@jupyter-widgets/base",
            "_model_module_version": "1.2.0",
            "_model_name": "LayoutModel",
            "_view_count": null,
            "_view_module": "@jupyter-widgets/base",
            "_view_module_version": "1.2.0",
            "_view_name": "LayoutView",
            "align_content": null,
            "align_items": null,
            "align_self": null,
            "border": null,
            "bottom": null,
            "display": null,
            "flex": null,
            "flex_flow": null,
            "grid_area": null,
            "grid_auto_columns": null,
            "grid_auto_flow": null,
            "grid_auto_rows": null,
            "grid_column": null,
            "grid_gap": null,
            "grid_row": null,
            "grid_template_areas": null,
            "grid_template_columns": null,
            "grid_template_rows": null,
            "height": null,
            "justify_content": null,
            "justify_items": null,
            "left": null,
            "margin": null,
            "max_height": null,
            "max_width": null,
            "min_height": null,
            "min_width": null,
            "object_fit": null,
            "object_position": null,
            "order": null,
            "overflow": null,
            "overflow_x": null,
            "overflow_y": null,
            "padding": null,
            "right": null,
            "top": null,
            "visibility": null,
            "width": null
          }
        },
        "4ceec8406ee94f93b6657fe70523c926": {
          "model_module": "@jupyter-widgets/controls",
          "model_name": "DescriptionStyleModel",
          "model_module_version": "1.5.0",
          "state": {
            "_model_module": "@jupyter-widgets/controls",
            "_model_module_version": "1.5.0",
            "_model_name": "DescriptionStyleModel",
            "_view_count": null,
            "_view_module": "@jupyter-widgets/base",
            "_view_module_version": "1.2.0",
            "_view_name": "StyleView",
            "description_width": ""
          }
        },
        "86d55d56891b4245a470fb2ffb10557b": {
          "model_module": "@jupyter-widgets/controls",
          "model_name": "HBoxModel",
          "model_module_version": "1.5.0",
          "state": {
            "_dom_classes": [],
            "_model_module": "@jupyter-widgets/controls",
            "_model_module_version": "1.5.0",
            "_model_name": "HBoxModel",
            "_view_count": null,
            "_view_module": "@jupyter-widgets/controls",
            "_view_module_version": "1.5.0",
            "_view_name": "HBoxView",
            "box_style": "",
            "children": [
              "IPY_MODEL_5b4666bc662c41298787db4a38583e9d",
              "IPY_MODEL_af824c01c12e4eb093beb7727efff3dc",
              "IPY_MODEL_9e469b6df6a6453eb1dfce3406ad7bbb"
            ],
            "layout": "IPY_MODEL_6d327f8dfc0a40a89a94c2b60335beef"
          }
        },
        "5b4666bc662c41298787db4a38583e9d": {
          "model_module": "@jupyter-widgets/controls",
          "model_name": "HTMLModel",
          "model_module_version": "1.5.0",
          "state": {
            "_dom_classes": [],
            "_model_module": "@jupyter-widgets/controls",
            "_model_module_version": "1.5.0",
            "_model_name": "HTMLModel",
            "_view_count": null,
            "_view_module": "@jupyter-widgets/controls",
            "_view_module_version": "1.5.0",
            "_view_name": "HTMLView",
            "description": "",
            "description_tooltip": null,
            "layout": "IPY_MODEL_6f5062faa55945758ee69d2acc4592bb",
            "placeholder": "​",
            "style": "IPY_MODEL_be42ddbee284429e80fb30d883dda4ff",
            "value": "README.md: 100%"
          }
        },
        "af824c01c12e4eb093beb7727efff3dc": {
          "model_module": "@jupyter-widgets/controls",
          "model_name": "FloatProgressModel",
          "model_module_version": "1.5.0",
          "state": {
            "_dom_classes": [],
            "_model_module": "@jupyter-widgets/controls",
            "_model_module_version": "1.5.0",
            "_model_name": "FloatProgressModel",
            "_view_count": null,
            "_view_module": "@jupyter-widgets/controls",
            "_view_module_version": "1.5.0",
            "_view_name": "ProgressView",
            "bar_style": "success",
            "description": "",
            "description_tooltip": null,
            "layout": "IPY_MODEL_ed39fe3b8a86464597aafe9af376c377",
            "max": 5174,
            "min": 0,
            "orientation": "horizontal",
            "style": "IPY_MODEL_d74377c17b4840ebb262b9d52ced4ee9",
            "value": 5174
          }
        },
        "9e469b6df6a6453eb1dfce3406ad7bbb": {
          "model_module": "@jupyter-widgets/controls",
          "model_name": "HTMLModel",
          "model_module_version": "1.5.0",
          "state": {
            "_dom_classes": [],
            "_model_module": "@jupyter-widgets/controls",
            "_model_module_version": "1.5.0",
            "_model_name": "HTMLModel",
            "_view_count": null,
            "_view_module": "@jupyter-widgets/controls",
            "_view_module_version": "1.5.0",
            "_view_name": "HTMLView",
            "description": "",
            "description_tooltip": null,
            "layout": "IPY_MODEL_1406143bb1a84730adb4077585bd9e38",
            "placeholder": "​",
            "style": "IPY_MODEL_ae067eeb46454e969db28d2c6c76bef8",
            "value": " 5.17k/5.17k [00:00&lt;00:00, 218kB/s]"
          }
        },
        "6d327f8dfc0a40a89a94c2b60335beef": {
          "model_module": "@jupyter-widgets/base",
          "model_name": "LayoutModel",
          "model_module_version": "1.2.0",
          "state": {
            "_model_module": "@jupyter-widgets/base",
            "_model_module_version": "1.2.0",
            "_model_name": "LayoutModel",
            "_view_count": null,
            "_view_module": "@jupyter-widgets/base",
            "_view_module_version": "1.2.0",
            "_view_name": "LayoutView",
            "align_content": null,
            "align_items": null,
            "align_self": null,
            "border": null,
            "bottom": null,
            "display": null,
            "flex": null,
            "flex_flow": null,
            "grid_area": null,
            "grid_auto_columns": null,
            "grid_auto_flow": null,
            "grid_auto_rows": null,
            "grid_column": null,
            "grid_gap": null,
            "grid_row": null,
            "grid_template_areas": null,
            "grid_template_columns": null,
            "grid_template_rows": null,
            "height": null,
            "justify_content": null,
            "justify_items": null,
            "left": null,
            "margin": null,
            "max_height": null,
            "max_width": null,
            "min_height": null,
            "min_width": null,
            "object_fit": null,
            "object_position": null,
            "order": null,
            "overflow": null,
            "overflow_x": null,
            "overflow_y": null,
            "padding": null,
            "right": null,
            "top": null,
            "visibility": null,
            "width": null
          }
        },
        "6f5062faa55945758ee69d2acc4592bb": {
          "model_module": "@jupyter-widgets/base",
          "model_name": "LayoutModel",
          "model_module_version": "1.2.0",
          "state": {
            "_model_module": "@jupyter-widgets/base",
            "_model_module_version": "1.2.0",
            "_model_name": "LayoutModel",
            "_view_count": null,
            "_view_module": "@jupyter-widgets/base",
            "_view_module_version": "1.2.0",
            "_view_name": "LayoutView",
            "align_content": null,
            "align_items": null,
            "align_self": null,
            "border": null,
            "bottom": null,
            "display": null,
            "flex": null,
            "flex_flow": null,
            "grid_area": null,
            "grid_auto_columns": null,
            "grid_auto_flow": null,
            "grid_auto_rows": null,
            "grid_column": null,
            "grid_gap": null,
            "grid_row": null,
            "grid_template_areas": null,
            "grid_template_columns": null,
            "grid_template_rows": null,
            "height": null,
            "justify_content": null,
            "justify_items": null,
            "left": null,
            "margin": null,
            "max_height": null,
            "max_width": null,
            "min_height": null,
            "min_width": null,
            "object_fit": null,
            "object_position": null,
            "order": null,
            "overflow": null,
            "overflow_x": null,
            "overflow_y": null,
            "padding": null,
            "right": null,
            "top": null,
            "visibility": null,
            "width": null
          }
        },
        "be42ddbee284429e80fb30d883dda4ff": {
          "model_module": "@jupyter-widgets/controls",
          "model_name": "DescriptionStyleModel",
          "model_module_version": "1.5.0",
          "state": {
            "_model_module": "@jupyter-widgets/controls",
            "_model_module_version": "1.5.0",
            "_model_name": "DescriptionStyleModel",
            "_view_count": null,
            "_view_module": "@jupyter-widgets/base",
            "_view_module_version": "1.2.0",
            "_view_name": "StyleView",
            "description_width": ""
          }
        },
        "ed39fe3b8a86464597aafe9af376c377": {
          "model_module": "@jupyter-widgets/base",
          "model_name": "LayoutModel",
          "model_module_version": "1.2.0",
          "state": {
            "_model_module": "@jupyter-widgets/base",
            "_model_module_version": "1.2.0",
            "_model_name": "LayoutModel",
            "_view_count": null,
            "_view_module": "@jupyter-widgets/base",
            "_view_module_version": "1.2.0",
            "_view_name": "LayoutView",
            "align_content": null,
            "align_items": null,
            "align_self": null,
            "border": null,
            "bottom": null,
            "display": null,
            "flex": null,
            "flex_flow": null,
            "grid_area": null,
            "grid_auto_columns": null,
            "grid_auto_flow": null,
            "grid_auto_rows": null,
            "grid_column": null,
            "grid_gap": null,
            "grid_row": null,
            "grid_template_areas": null,
            "grid_template_columns": null,
            "grid_template_rows": null,
            "height": null,
            "justify_content": null,
            "justify_items": null,
            "left": null,
            "margin": null,
            "max_height": null,
            "max_width": null,
            "min_height": null,
            "min_width": null,
            "object_fit": null,
            "object_position": null,
            "order": null,
            "overflow": null,
            "overflow_x": null,
            "overflow_y": null,
            "padding": null,
            "right": null,
            "top": null,
            "visibility": null,
            "width": null
          }
        },
        "d74377c17b4840ebb262b9d52ced4ee9": {
          "model_module": "@jupyter-widgets/controls",
          "model_name": "ProgressStyleModel",
          "model_module_version": "1.5.0",
          "state": {
            "_model_module": "@jupyter-widgets/controls",
            "_model_module_version": "1.5.0",
            "_model_name": "ProgressStyleModel",
            "_view_count": null,
            "_view_module": "@jupyter-widgets/base",
            "_view_module_version": "1.2.0",
            "_view_name": "StyleView",
            "bar_color": null,
            "description_width": ""
          }
        },
        "1406143bb1a84730adb4077585bd9e38": {
          "model_module": "@jupyter-widgets/base",
          "model_name": "LayoutModel",
          "model_module_version": "1.2.0",
          "state": {
            "_model_module": "@jupyter-widgets/base",
            "_model_module_version": "1.2.0",
            "_model_name": "LayoutModel",
            "_view_count": null,
            "_view_module": "@jupyter-widgets/base",
            "_view_module_version": "1.2.0",
            "_view_name": "LayoutView",
            "align_content": null,
            "align_items": null,
            "align_self": null,
            "border": null,
            "bottom": null,
            "display": null,
            "flex": null,
            "flex_flow": null,
            "grid_area": null,
            "grid_auto_columns": null,
            "grid_auto_flow": null,
            "grid_auto_rows": null,
            "grid_column": null,
            "grid_gap": null,
            "grid_row": null,
            "grid_template_areas": null,
            "grid_template_columns": null,
            "grid_template_rows": null,
            "height": null,
            "justify_content": null,
            "justify_items": null,
            "left": null,
            "margin": null,
            "max_height": null,
            "max_width": null,
            "min_height": null,
            "min_width": null,
            "object_fit": null,
            "object_position": null,
            "order": null,
            "overflow": null,
            "overflow_x": null,
            "overflow_y": null,
            "padding": null,
            "right": null,
            "top": null,
            "visibility": null,
            "width": null
          }
        },
        "ae067eeb46454e969db28d2c6c76bef8": {
          "model_module": "@jupyter-widgets/controls",
          "model_name": "DescriptionStyleModel",
          "model_module_version": "1.5.0",
          "state": {
            "_model_module": "@jupyter-widgets/controls",
            "_model_module_version": "1.5.0",
            "_model_name": "DescriptionStyleModel",
            "_view_count": null,
            "_view_module": "@jupyter-widgets/base",
            "_view_module_version": "1.2.0",
            "_view_name": "StyleView",
            "description_width": ""
          }
        }
      }
    }
  },
  "cells": [
    {
      "cell_type": "code",
      "execution_count": 1,
      "metadata": {
        "colab": {
          "base_uri": "https://localhost:8080/"
        },
        "id": "GqmNI1qpICbc",
        "outputId": "58fa9938-20f1-4d8a-ad50-b59bb5bb9b50"
      },
      "outputs": [
        {
          "output_type": "stream",
          "name": "stdout",
          "text": [
            "Drive already mounted at /content/drive; to attempt to forcibly remount, call drive.mount(\"/content/drive\", force_remount=True).\n"
          ]
        }
      ],
      "source": [
        "#Copy data to collab\n",
        "from google.colab import drive\n",
        "drive.mount('/content/drive')"
      ]
    },
    {
      "cell_type": "code",
      "source": [
        "import shutil"
      ],
      "metadata": {
        "id": "_eFAo1etILH2"
      },
      "execution_count": 2,
      "outputs": []
    },
    {
      "cell_type": "code",
      "source": [
        "destination_path = '/content/emailsubjects'\n",
        "source_path = '/content/drive/My Drive/emailsubjects/'\n",
        "\n",
        "# Copy the file\n",
        "shutil.copytree(source_path, destination_path,dirs_exist_ok=True)"
      ],
      "metadata": {
        "colab": {
          "base_uri": "https://localhost:8080/",
          "height": 36
        },
        "id": "sGcSsvy6ILhk",
        "outputId": "b58b1546-c51c-46a8-f7cd-b703bf76e7bc"
      },
      "execution_count": 3,
      "outputs": [
        {
          "output_type": "execute_result",
          "data": {
            "text/plain": [
              "'/content/emailsubjects'"
            ],
            "application/vnd.google.colaboratory.intrinsic+json": {
              "type": "string"
            }
          },
          "metadata": {},
          "execution_count": 3
        }
      ]
    },
    {
      "cell_type": "code",
      "source": [
        "import pandas as pd"
      ],
      "metadata": {
        "id": "SgBGun7RIMG1"
      },
      "execution_count": 4,
      "outputs": []
    },
    {
      "cell_type": "code",
      "source": [
        "test_df = pd.read_csv('emailsubjects/enron_subject_test.csv')\n",
        "training_df = pd.read_csv('emailsubjects/enron_subject_train.csv')"
      ],
      "metadata": {
        "id": "2fIR4EFzINs5"
      },
      "execution_count": 76,
      "outputs": []
    },
    {
      "cell_type": "code",
      "source": [
        "test_df = test_df[['text', 'subject']]\n",
        "training_df = training_df[['text', 'subject']]"
      ],
      "metadata": {
        "id": "Pf4Y1WZuINqm"
      },
      "execution_count": 77,
      "outputs": []
    },
    {
      "cell_type": "code",
      "source": [
        "import numpy as np"
      ],
      "metadata": {
        "id": "2DjgHxFvaeUs"
      },
      "execution_count": 70,
      "outputs": []
    },
    {
      "cell_type": "code",
      "source": [
        "train_df, validate_df = np.split(training_df.sample(frac=1), [int(.8*len(training_df))])"
      ],
      "metadata": {
        "colab": {
          "base_uri": "https://localhost:8080/"
        },
        "id": "544f2iNcaIAy",
        "outputId": "dd9b93eb-ab87-4a8a-dbe4-3b9bfea7edb8"
      },
      "execution_count": 78,
      "outputs": [
        {
          "output_type": "stream",
          "name": "stderr",
          "text": [
            "/usr/local/lib/python3.10/dist-packages/numpy/core/fromnumeric.py:59: FutureWarning: 'DataFrame.swapaxes' is deprecated and will be removed in a future version. Please use 'DataFrame.transpose' instead.\n",
            "  return bound(*args, **kwds)\n"
          ]
        }
      ]
    },
    {
      "cell_type": "code",
      "source": [],
      "metadata": {
        "id": "_ZPTbiVuaHsZ"
      },
      "execution_count": 78,
      "outputs": []
    },
    {
      "cell_type": "code",
      "source": [],
      "metadata": {
        "id": "kcu5Uf8Aavrj"
      },
      "execution_count": 78,
      "outputs": []
    },
    {
      "cell_type": "code",
      "source": [
        "# train_df = train_df.head(100)\n",
        "# valid_df = train_df.tail(20)\n",
        "# test_df = test_df.head(20)"
      ],
      "metadata": {
        "id": "Mtku85BTLnUA"
      },
      "execution_count": 79,
      "outputs": []
    },
    {
      "cell_type": "code",
      "source": [
        "from transformers import BartTokenizer, BartForConditionalGeneration, Trainer, TrainingArguments\n",
        "from torch.utils.data import Dataset\n",
        "import torch"
      ],
      "metadata": {
        "id": "Sd0mYL8TINmX"
      },
      "execution_count": 80,
      "outputs": []
    },
    {
      "cell_type": "code",
      "source": [
        "class EmailTextDataset(Dataset):\n",
        "    def __init__(self, tokenizer, data, max_length=512):\n",
        "        self.tokenizer = tokenizer  # Tokenizer for encoding text\n",
        "        self.data = data            # Data containing email boy and subject\n",
        "        self.max_length = max_length # Maximum length of tokens\n",
        "\n",
        "    # Return the number of items in the dataset\n",
        "    def __len__(self):\n",
        "        return len(self.data)\n",
        "\n",
        "    # Retrieve an item from the dataset by index\n",
        "    def __getitem__(self, idx):\n",
        "        item = self.data.iloc[idx]  # Get the row at the specified index\n",
        "        text = item['text'] # Extract text from the row\n",
        "        subject = item['subject']   # Extract summary from the row\n",
        "\n",
        "        # Encode the text as input data for the model\n",
        "        source = self.tokenizer.encode_plus(\n",
        "            text,\n",
        "            max_length=self.max_length,\n",
        "            padding='max_length',\n",
        "            return_tensors='pt',\n",
        "            truncation=True\n",
        "        )\n",
        "\n",
        "        # Encode the subject as target data for the model\n",
        "        target = self.tokenizer.encode_plus(\n",
        "            subject,\n",
        "            max_length=self.max_length,\n",
        "            padding='max_length',\n",
        "            return_tensors='pt',\n",
        "            truncation=True\n",
        "        )\n",
        "\n",
        "        # Return a dictionary containing input_ids, attention_mask, labels, and the original summary text\n",
        "        return {\n",
        "            'input_ids': source['input_ids'].flatten(),\n",
        "            'attention_mask': source['attention_mask'].flatten(),\n",
        "            'labels': target['input_ids'].flatten(),\n",
        "            'summary': subject\n",
        "        }"
      ],
      "metadata": {
        "id": "MZlqAQ7VINi6"
      },
      "execution_count": 81,
      "outputs": []
    },
    {
      "cell_type": "code",
      "source": [
        "from transformers import BartTokenizer, BartForConditionalGeneration\n",
        "\n",
        "# Initialize the tokenizer for BART\n",
        "# 'facebook/bart-base' is a pretrained model identifier\n",
        "# The tokenizer is responsible for converting text input into tokens that the model can understand\n",
        "tokenizer = BartTokenizer.from_pretrained('facebook/bart-base')\n",
        "\n",
        "# Initialize the BART model for conditional generation\n",
        "# This model is used for tasks like summarization where the output is conditional on the input text\n",
        "# The model is loaded with pretrained weights from 'facebook/bart-base'\n",
        "model = BartForConditionalGeneration.from_pretrained('facebook/bart-base')"
      ],
      "metadata": {
        "id": "4dDY8vaxINgg"
      },
      "execution_count": 82,
      "outputs": []
    },
    {
      "cell_type": "code",
      "source": [
        "train_dataset = EmailTextDataset(tokenizer, train_df)\n",
        "valid_dataset = EmailTextDataset(tokenizer, validate_df)"
      ],
      "metadata": {
        "id": "v0_p0kjrINd6"
      },
      "execution_count": 83,
      "outputs": []
    },
    {
      "cell_type": "code",
      "source": [
        "test_dataset = EmailTextDataset(tokenizer, test_df)"
      ],
      "metadata": {
        "id": "EBflyMJQN1vq"
      },
      "execution_count": 91,
      "outputs": []
    },
    {
      "cell_type": "code",
      "source": [
        "from transformers import TrainingArguments\n",
        "\n",
        "# Define training arguments for the model\n",
        "training_args = TrainingArguments(\n",
        "    output_dir='./results',          # Directory to save model output and checkpoints\n",
        "    num_train_epochs=3,              # Number of epochs to train the model\n",
        "    per_device_train_batch_size=8,   # Batch size per device during training\n",
        "    per_device_eval_batch_size=8,    # Batch size for evaluation\n",
        "    warmup_steps=100,                # Number of warmup steps for learning rate scheduler\n",
        "    weight_decay=0.01,               # Weight decay for regularization\n",
        "    logging_dir='./logs',            # Directory to save logs\n",
        "    logging_steps=10,                # Log metrics every specified number of steps\n",
        "    evaluation_strategy=\"epoch\",     # Evaluation is done at the end of each epoch\n",
        "    report_to='none'                 # Disables reporting to any online services (e.g., TensorBoard, WandB)\n",
        ")"
      ],
      "metadata": {
        "colab": {
          "base_uri": "https://localhost:8080/"
        },
        "id": "oLpUFYlSINba",
        "outputId": "389f95a5-64bc-47da-e911-6e9fc54f8294"
      },
      "execution_count": 86,
      "outputs": [
        {
          "output_type": "stream",
          "name": "stderr",
          "text": [
            "/usr/local/lib/python3.10/dist-packages/transformers/training_args.py:1494: FutureWarning: `evaluation_strategy` is deprecated and will be removed in version 4.46 of 🤗 Transformers. Use `eval_strategy` instead\n",
            "  warnings.warn(\n"
          ]
        }
      ]
    },
    {
      "cell_type": "code",
      "source": [
        "# Initializing the Trainer object\n",
        "trainer = Trainer(\n",
        "    model=model,             # The model to be trained (e.g., our BART model)\n",
        "    args=training_args,      # Training arguments specifying training parameters like learning rate, batch size, etc.\n",
        "    train_dataset=train_dataset,  # The dataset to be used for training the model\n",
        "    eval_dataset=valid_dataset    # The dataset to be used for evaluating the model during training\n",
        ")\n",
        "\n",
        "# Starting the training process\n",
        "trainer.train()"
      ],
      "metadata": {
        "colab": {
          "base_uri": "https://localhost:8080/",
          "height": 530
        },
        "id": "SX1KdxUMINYw",
        "outputId": "89bc472a-bebf-40c5-fcfd-62e5bc46b404"
      },
      "execution_count": 87,
      "outputs": [
        {
          "output_type": "display_data",
          "data": {
            "text/plain": [
              "<IPython.core.display.HTML object>"
            ],
            "text/html": [
              "\n",
              "    <div>\n",
              "      \n",
              "      <progress value='4332' max='4332' style='width:300px; height:20px; vertical-align: middle;'></progress>\n",
              "      [4332/4332 1:39:34, Epoch 3/3]\n",
              "    </div>\n",
              "    <table border=\"1\" class=\"dataframe\">\n",
              "  <thead>\n",
              " <tr style=\"text-align: left;\">\n",
              "      <th>Epoch</th>\n",
              "      <th>Training Loss</th>\n",
              "      <th>Validation Loss</th>\n",
              "    </tr>\n",
              "  </thead>\n",
              "  <tbody>\n",
              "    <tr>\n",
              "      <td>1</td>\n",
              "      <td>0.048200</td>\n",
              "      <td>0.042735</td>\n",
              "    </tr>\n",
              "    <tr>\n",
              "      <td>2</td>\n",
              "      <td>0.034300</td>\n",
              "      <td>0.040799</td>\n",
              "    </tr>\n",
              "    <tr>\n",
              "      <td>3</td>\n",
              "      <td>0.031600</td>\n",
              "      <td>0.040619</td>\n",
              "    </tr>\n",
              "  </tbody>\n",
              "</table><p>"
            ]
          },
          "metadata": {}
        },
        {
          "output_type": "stream",
          "name": "stderr",
          "text": [
            "Some non-default generation parameters are set in the model config. These should go into a GenerationConfig file (https://huggingface.co/docs/transformers/generation_strategies#save-a-custom-decoding-strategy-with-your-model) instead. This warning will be raised to an exception in v4.41.\n",
            "Non-default generation parameters: {'early_stopping': True, 'num_beams': 4, 'no_repeat_ngram_size': 3, 'forced_bos_token_id': 0, 'forced_eos_token_id': 2}\n",
            "Some non-default generation parameters are set in the model config. These should go into a GenerationConfig file (https://huggingface.co/docs/transformers/generation_strategies#save-a-custom-decoding-strategy-with-your-model) instead. This warning will be raised to an exception in v4.41.\n",
            "Non-default generation parameters: {'early_stopping': True, 'num_beams': 4, 'no_repeat_ngram_size': 3, 'forced_bos_token_id': 0, 'forced_eos_token_id': 2}\n",
            "Some non-default generation parameters are set in the model config. These should go into a GenerationConfig file (https://huggingface.co/docs/transformers/generation_strategies#save-a-custom-decoding-strategy-with-your-model) instead. This warning will be raised to an exception in v4.41.\n",
            "Non-default generation parameters: {'early_stopping': True, 'num_beams': 4, 'no_repeat_ngram_size': 3, 'forced_bos_token_id': 0, 'forced_eos_token_id': 2}\n",
            "Some non-default generation parameters are set in the model config. These should go into a GenerationConfig file (https://huggingface.co/docs/transformers/generation_strategies#save-a-custom-decoding-strategy-with-your-model) instead. This warning will be raised to an exception in v4.41.\n",
            "Non-default generation parameters: {'early_stopping': True, 'num_beams': 4, 'no_repeat_ngram_size': 3, 'forced_bos_token_id': 0, 'forced_eos_token_id': 2}\n",
            "Some non-default generation parameters are set in the model config. These should go into a GenerationConfig file (https://huggingface.co/docs/transformers/generation_strategies#save-a-custom-decoding-strategy-with-your-model) instead. This warning will be raised to an exception in v4.41.\n",
            "Non-default generation parameters: {'early_stopping': True, 'num_beams': 4, 'no_repeat_ngram_size': 3, 'forced_bos_token_id': 0, 'forced_eos_token_id': 2}\n",
            "Some non-default generation parameters are set in the model config. These should go into a GenerationConfig file (https://huggingface.co/docs/transformers/generation_strategies#save-a-custom-decoding-strategy-with-your-model) instead. This warning will be raised to an exception in v4.41.\n",
            "Non-default generation parameters: {'early_stopping': True, 'num_beams': 4, 'no_repeat_ngram_size': 3, 'forced_bos_token_id': 0, 'forced_eos_token_id': 2}\n",
            "Some non-default generation parameters are set in the model config. These should go into a GenerationConfig file (https://huggingface.co/docs/transformers/generation_strategies#save-a-custom-decoding-strategy-with-your-model) instead. This warning will be raised to an exception in v4.41.\n",
            "Non-default generation parameters: {'early_stopping': True, 'num_beams': 4, 'no_repeat_ngram_size': 3, 'forced_bos_token_id': 0, 'forced_eos_token_id': 2}\n",
            "Some non-default generation parameters are set in the model config. These should go into a GenerationConfig file (https://huggingface.co/docs/transformers/generation_strategies#save-a-custom-decoding-strategy-with-your-model) instead. This warning will be raised to an exception in v4.41.\n",
            "Non-default generation parameters: {'early_stopping': True, 'num_beams': 4, 'no_repeat_ngram_size': 3, 'forced_bos_token_id': 0, 'forced_eos_token_id': 2}\n",
            "Some non-default generation parameters are set in the model config. These should go into a GenerationConfig file (https://huggingface.co/docs/transformers/generation_strategies#save-a-custom-decoding-strategy-with-your-model) instead. This warning will be raised to an exception in v4.41.\n",
            "Non-default generation parameters: {'early_stopping': True, 'num_beams': 4, 'no_repeat_ngram_size': 3, 'forced_bos_token_id': 0, 'forced_eos_token_id': 2}\n"
          ]
        },
        {
          "output_type": "execute_result",
          "data": {
            "text/plain": [
              "TrainOutput(global_step=4332, training_loss=0.16953836290796984, metrics={'train_runtime': 5975.3186, 'train_samples_per_second': 5.798, 'train_steps_per_second': 0.725, 'total_flos': 1.056185492963328e+16, 'train_loss': 0.16953836290796984, 'epoch': 3.0})"
            ]
          },
          "metadata": {},
          "execution_count": 87
        }
      ]
    },
    {
      "cell_type": "code",
      "source": [
        "#!pip install datasets"
      ],
      "metadata": {
        "id": "41GIpZvYMYN4"
      },
      "execution_count": 14,
      "outputs": []
    },
    {
      "cell_type": "code",
      "source": [
        "from datasets import load_metric\n",
        "from torch.utils.data import DataLoader\n",
        "\n",
        "# Load the ROUGE metric for evaluation\n",
        "rouge = load_metric('rouge')"
      ],
      "metadata": {
        "id": "ZpchhSWcINV2"
      },
      "execution_count": 88,
      "outputs": []
    },
    {
      "cell_type": "code",
      "source": [
        "def generate_subjects(model, tokenizer, dataset, batch_size=8):\n",
        "    \"\"\"\n",
        "    Generate email subject using the provided model and tokenizer on the given dataset.\n",
        "\n",
        "    Args:\n",
        "        model: The trained summarization model.\n",
        "        tokenizer: Tokenizer associated with the model.\n",
        "        dataset: Dataset for which subject need to be generated.\n",
        "        batch_size: Number of data samples to process in each batch.\n",
        "\n",
        "    Returns:\n",
        "        subjects: Generated subject by the model.\n",
        "        references: Actual subjects from the dataset for comparison.\n",
        "    \"\"\"\n",
        "    # Set model to evaluation mode\n",
        "    model.eval()\n",
        "    subjects = []    # List to store generated subjects\n",
        "    references = []   # List to store actual subjects\n",
        "\n",
        "    # Create a DataLoader for batch processing\n",
        "    dataloader = DataLoader(dataset, batch_size=batch_size)\n",
        "\n",
        "    # Disabled gradient calculations for efficiency\n",
        "    with torch.no_grad():\n",
        "        for batch in dataloader:\n",
        "            # Move input data to the same device as the model\n",
        "            input_ids = batch['input_ids'].to(model.device)\n",
        "            attention_mask = batch['attention_mask'].to(model.device)\n",
        "\n",
        "            # Generate subjects with the model\n",
        "            outputs = model.generate(input_ids, attention_mask=attention_mask, max_length=2048, num_beams=2)\n",
        "            batch_subjects = [tokenizer.decode(ids, skip_special_tokens=True) for ids in outputs]\n",
        "\n",
        "            # Append generated and actual subjects to the respective lists\n",
        "            subjects.extend(batch_subjects)\n",
        "            references.extend(batch['summary'])\n",
        "\n",
        "    return subjects, references"
      ],
      "metadata": {
        "id": "TqGXgB3cINS_"
      },
      "execution_count": 89,
      "outputs": []
    },
    {
      "cell_type": "code",
      "source": [
        "# Generate summaries for the validation dataset\n",
        "generated_subjects, actual_subjects = generate_subjects(model, tokenizer, test_dataset, batch_size=8)"
      ],
      "metadata": {
        "id": "ogxBcU-LINMO"
      },
      "execution_count": 92,
      "outputs": []
    },
    {
      "cell_type": "code",
      "source": [
        "generated_subjects[:10]"
      ],
      "metadata": {
        "colab": {
          "base_uri": "https://localhost:8080/"
        },
        "id": "cyd38QayINJP",
        "outputId": "00d25490-2fb0-4303-f6ec-edd5d444621e"
      },
      "execution_count": 93,
      "outputs": [
        {
          "output_type": "execute_result",
          "data": {
            "text/plain": [
              "['Title Change',\n",
              " 'Expense Reports Awaiting Your Approval',\n",
              " 'Netco Re-Start/Integration Plans',\n",
              " 'Comments',\n",
              " 'PSA distribution',\n",
              " 'BCP Seats',\n",
              " 'Happy New Year!',\n",
              " 'EOL slide',\n",
              " 'Analyst & Associate Recruiting Dates',\n",
              " 'Enron Center Security']"
            ]
          },
          "metadata": {},
          "execution_count": 93
        }
      ]
    },
    {
      "cell_type": "code",
      "source": [
        "actual_subjects[:10]"
      ],
      "metadata": {
        "colab": {
          "base_uri": "https://localhost:8080/"
        },
        "id": "dTtqlrZaNcyk",
        "outputId": "736fe6fb-49c9-418a-a5e9-347688a11a3b"
      },
      "execution_count": 96,
      "outputs": [
        {
          "output_type": "execute_result",
          "data": {
            "text/plain": [
              "['Huntley/question',\n",
              " 'Expense Reports Awaiting Your Approval',\n",
              " 'Re-start/Integration Planning',\n",
              " 'RM Simulation Storyline Scripts - Ready for Legal Review',\n",
              " 'Answer',\n",
              " 'BCP Seat Assignments',\n",
              " 'Farewell Drinks',\n",
              " 'Slide for John Sheriff',\n",
              " 'URGENT - ENA Associates & Analysts',\n",
              " 'Increased Security at Enron Center']"
            ]
          },
          "metadata": {},
          "execution_count": 96
        }
      ]
    },
    {
      "cell_type": "code",
      "source": [
        "# Check if CUDA (GPU support) is available and choose the device accordingly\n",
        "device = torch.device(\"cuda\" if torch.cuda.is_available() else \"cpu\")\n",
        "\n",
        "# Move the model to the chosen device\n",
        "model = model.to(device)"
      ],
      "metadata": {
        "id": "g8y8oiQVQBw5"
      },
      "execution_count": 102,
      "outputs": []
    },
    {
      "cell_type": "code",
      "source": [
        "def generate_subjects(model, tokenizer, dataset, batch_size=8):\n",
        "    \"\"\"\n",
        "    Generate email subject using the provided model and tokenizer on the given dataset.\n",
        "\n",
        "    Args:\n",
        "        model: The trained summarization model.\n",
        "        tokenizer: Tokenizer associated with the model.\n",
        "        dataset: Dataset for which subject need to be generated.\n",
        "        batch_size: Number of data samples to process in each batch.\n",
        "\n",
        "    Returns:\n",
        "        subjects: Generated subject by the model.\n",
        "        references: Actual subjects from the dataset for comparison.\n",
        "    \"\"\"\n",
        "    # Set model to evaluation mode\n",
        "    model.eval()\n",
        "    subjects = []    # List to store generated subjects\n",
        "    references = []   # List to store actual subjects\n",
        "\n",
        "    # Create a DataLoader for batch processing\n",
        "    dataloader = DataLoader(dataset, batch_size=batch_size)\n",
        "\n",
        "    # Disabled gradient calculations for efficiency\n",
        "    with torch.no_grad():\n",
        "        for batch in dataloader:\n",
        "            # Move input data to the same device as the model\n",
        "            input_ids = batch['input_ids'].to(model.device)\n",
        "            attention_mask = batch['attention_mask'].to(model.device)\n",
        "\n",
        "            # Generate subjects with the model\n",
        "            outputs = model.generate(input_ids, attention_mask=attention_mask, max_length=2048, num_beams=2)\n",
        "            batch_subjects = [tokenizer.decode(ids, skip_special_tokens=True) for ids in outputs]\n",
        "\n",
        "            # Append generated and actual subjects to the respective lists\n",
        "            subjects.extend(batch_subjects)\n",
        "            references.extend(batch['summary'])\n",
        "\n",
        "    return subjects, references"
      ],
      "metadata": {
        "id": "8neMy4BG9DoD"
      },
      "execution_count": null,
      "outputs": []
    },
    {
      "cell_type": "code",
      "source": [
        "def summarize_text(text, max_length=500):\n",
        "    \"\"\"\n",
        "    Generates a email subject for the given text using a pre-trained model.\n",
        "\n",
        "    Args:\n",
        "        text (str): Email text to generate subject.\n",
        "        max_length (int): The maximum length of the input text for the model.\n",
        "\n",
        "    Returns:\n",
        "        str: The generated subject for the input text.\n",
        "    \"\"\"\n",
        "    # Encode the input text using the tokenizer. The 'pt' indicates PyTorch tensors.\n",
        "    inputs = tokenizer.encode(text, return_tensors=\"pt\", max_length=max_length, truncation=False)\n",
        "\n",
        "    # Move the encoded text to the same device as the model (e.g., GPU or CPU)\n",
        "    inputs = inputs.to(device)\n",
        "\n",
        "    # Generate summary IDs with the model. num_beams controls the beam search width.\n",
        "    # early_stopping is set to False for a thorough search, though it can be set to True for faster results.\n",
        "    summary_ids = model.generate(inputs, max_length=500, num_beams=30, early_stopping=False)\n",
        "\n",
        "    # Decode the generated IDs back to text, skipping special tokens like padding or EOS.\n",
        "    summary = tokenizer.decode(summary_ids[0], skip_special_tokens=True)\n",
        "\n",
        "    # Return the generated summary\n",
        "    return summary"
      ],
      "metadata": {
        "id": "L6LH_3zAQqfU"
      },
      "execution_count": 103,
      "outputs": []
    },
    {
      "cell_type": "code",
      "source": [
        "# Compute and print the ROUGE score for evaluation\n",
        "rouge_score = rouge.compute(predictions=generated_subjects, references=actual_subjects)\n",
        "print(rouge_score)"
      ],
      "metadata": {
        "colab": {
          "base_uri": "https://localhost:8080/"
        },
        "id": "V-XJ6C4CTqK2",
        "outputId": "63e4836b-79e2-4ba3-df6a-07ff0b6eaaaf"
      },
      "execution_count": 97,
      "outputs": [
        {
          "output_type": "stream",
          "name": "stdout",
          "text": [
            "{'rouge1': AggregateScore(low=Score(precision=0.37378795114760516, recall=0.3137390080917105, fmeasure=0.31843537088455953), mid=Score(precision=0.39026023563995793, recall=0.32869717070267956, fmeasure=0.3329765689211063), high=Score(precision=0.40727632711450296, recall=0.34410358718464684, fmeasure=0.34785449779108746)), 'rouge2': AggregateScore(low=Score(precision=0.19850224143580988, recall=0.16490013840945092, fmeasure=0.1671922049182846), mid=Score(precision=0.21470265519597276, recall=0.17895533331656094, fmeasure=0.18117176993669765), high=Score(precision=0.2310647995320187, recall=0.19373139459642572, fmeasure=0.19576138713575938)), 'rougeL': AggregateScore(low=Score(precision=0.3660595191359886, recall=0.30668777379493517, fmeasure=0.31133579804112144), mid=Score(precision=0.3835591535519398, recall=0.32336507712294665, fmeasure=0.3271782691805899), high=Score(precision=0.4003484573605243, recall=0.3378312598777578, fmeasure=0.34135193338128006)), 'rougeLsum': AggregateScore(low=Score(precision=0.3656836957492786, recall=0.30767329026051504, fmeasure=0.3120025080453713), mid=Score(precision=0.3836286698465347, recall=0.3237332905814018, fmeasure=0.32738629137562025), high=Score(precision=0.4000554863333593, recall=0.3385858495954904, fmeasure=0.34144477030500264))}\n"
          ]
        }
      ]
    },
    {
      "cell_type": "code",
      "source": [
        "from huggingface_hub import notebook_login\n",
        "notebook_login()"
      ],
      "metadata": {
        "colab": {
          "base_uri": "https://localhost:8080/",
          "height": 145,
          "referenced_widgets": [
            "f7d311ceec954bdcbca00c56ae87962d",
            "f038c8f891f64e66b3fd33d12140e00b",
            "caf1a656862e46eb9ecd4d64a892dfd0",
            "a2faa7fdb2e541c7a4f6103f474bfdf9",
            "893fcd8e3e3a43869f5472f69fdcf061",
            "ac68f9ed8f0549a1aa0c1eec467fcde3",
            "4617674047d5419cabaf1accdb07dd92",
            "0beb662af1c84f6aa42c806650b8281b",
            "a9bda23e3874407daa8635def3df8850",
            "b3a620ef6d874b68b5446cbaffde2615",
            "7c930df721874e20b401a2e1bbd6ffbe",
            "448ed6c92f224007b601e64e1f6f99cf",
            "810d26d7dce44af3a3eda0306949fc37",
            "5d5fbc9806004e7d8d57a3b0c14cc3df",
            "7caed462f248478daf37632d49021557",
            "1fea9c548ae349c394608d49d9178c79",
            "006a1703598f4799b738edd21866e781",
            "3bc0a5880840455d9129c09116f0682e",
            "aeeb3f68f99c4f0088efd5de35c8d0aa",
            "8b1ebd67965d4d74beeb6f56d220b2a8",
            "a4e4c529f7164712aa0cb4e6ec696eb0",
            "1d4d887e4c3a4fad8b2eaee754f71c5c",
            "586be930a60e4550ab0d0229ae087ba2",
            "72ec19e8b2e84e1482a389c51a58bfd2",
            "a66c8b79a8ce4706883aa7609e794b3b",
            "a6aed7a328224514b475c27b336946d1",
            "1b1f786b58594f11b0db8a4c3d312551",
            "815c446f6e4e43c4b9e52ab30a2d4dd6",
            "da14edba73cd4ed9abb1c32b29187014",
            "844d1cd1bebb45828df4f9c626e8db95",
            "41086d847bdc4987b91c6a4d92562557",
            "6e6318ff5c6c46d6b042396067fb94ed"
          ]
        },
        "id": "Paeds-5k2MaF",
        "outputId": "a037e32f-8e76-45d5-d18c-68d8e0d58465"
      },
      "execution_count": 98,
      "outputs": [
        {
          "output_type": "display_data",
          "data": {
            "text/plain": [
              "VBox(children=(HTML(value='<center> <img\\nsrc=https://huggingface.co/front/assets/huggingface_logo-noborder.sv…"
            ],
            "application/vnd.jupyter.widget-view+json": {
              "version_major": 2,
              "version_minor": 0,
              "model_id": "f7d311ceec954bdcbca00c56ae87962d"
            }
          },
          "metadata": {}
        }
      ]
    },
    {
      "cell_type": "code",
      "source": [
        "from google.colab import userdata\n",
        "hf_token = userdata.get('HF_TOKEN')"
      ],
      "metadata": {
        "id": "xOnDk7BX2ljT"
      },
      "execution_count": 100,
      "outputs": []
    },
    {
      "cell_type": "code",
      "source": [
        "model.push_to_hub(\"email_bart_1\", token = hf_token) # Online saving\n",
        "tokenizer.push_to_hub(\"email_bart_1\", token = hf_token) # Online saving"
      ],
      "metadata": {
        "colab": {
          "base_uri": "https://localhost:8080/",
          "height": 155,
          "referenced_widgets": [
            "bd0df4fb32474e6aafef95957714d44e",
            "f4319d07540943908ae001f806a94ae4",
            "5f625c5f7a044e22b45bb876f1ce074c",
            "f5ed2bfd185a4b448df8d3ec6a67eb9f",
            "8beffc12c2384c3dbcf1c54392d46e1c",
            "1eeca76f0836457e8116acd5609f9efa",
            "1d6cd1ecb71b470d89be6ab0605466f0",
            "ec6193301a4447fca500d89efeed9218",
            "801b145deffe473f8549bfb8d3d40daf",
            "12ee9fe8a2a945deb1486edb9b923588",
            "4ceec8406ee94f93b6657fe70523c926",
            "86d55d56891b4245a470fb2ffb10557b",
            "5b4666bc662c41298787db4a38583e9d",
            "af824c01c12e4eb093beb7727efff3dc",
            "9e469b6df6a6453eb1dfce3406ad7bbb",
            "6d327f8dfc0a40a89a94c2b60335beef",
            "6f5062faa55945758ee69d2acc4592bb",
            "be42ddbee284429e80fb30d883dda4ff",
            "ed39fe3b8a86464597aafe9af376c377",
            "d74377c17b4840ebb262b9d52ced4ee9",
            "1406143bb1a84730adb4077585bd9e38",
            "ae067eeb46454e969db28d2c6c76bef8"
          ]
        },
        "id": "iz7YCOAk2PZa",
        "outputId": "8f1198c5-151d-4533-f800-25dab9a5d965"
      },
      "execution_count": 105,
      "outputs": [
        {
          "output_type": "stream",
          "name": "stderr",
          "text": [
            "Some non-default generation parameters are set in the model config. These should go into a GenerationConfig file (https://huggingface.co/docs/transformers/generation_strategies#save-a-custom-decoding-strategy-with-your-model) instead. This warning will be raised to an exception in v4.41.\n",
            "Non-default generation parameters: {'early_stopping': True, 'num_beams': 4, 'no_repeat_ngram_size': 3, 'forced_bos_token_id': 0, 'forced_eos_token_id': 2}\n"
          ]
        },
        {
          "output_type": "display_data",
          "data": {
            "text/plain": [
              "model.safetensors:   0%|          | 0.00/558M [00:00<?, ?B/s]"
            ],
            "application/vnd.jupyter.widget-view+json": {
              "version_major": 2,
              "version_minor": 0,
              "model_id": "bd0df4fb32474e6aafef95957714d44e"
            }
          },
          "metadata": {}
        },
        {
          "output_type": "display_data",
          "data": {
            "text/plain": [
              "README.md:   0%|          | 0.00/5.17k [00:00<?, ?B/s]"
            ],
            "application/vnd.jupyter.widget-view+json": {
              "version_major": 2,
              "version_minor": 0,
              "model_id": "86d55d56891b4245a470fb2ffb10557b"
            }
          },
          "metadata": {}
        },
        {
          "output_type": "execute_result",
          "data": {
            "text/plain": [
              "CommitInfo(commit_url='https://huggingface.co/sbtraining2020/email_bart_1/commit/ac5b1b518c9f4080f8c01714ad00f0814104f000', commit_message='Upload tokenizer', commit_description='', oid='ac5b1b518c9f4080f8c01714ad00f0814104f000', pr_url=None, pr_revision=None, pr_num=None)"
            ],
            "application/vnd.google.colaboratory.intrinsic+json": {
              "type": "string"
            }
          },
          "metadata": {},
          "execution_count": 105
        }
      ]
    },
    {
      "cell_type": "code",
      "source": [
        "test_df.iloc[3].text"
      ],
      "metadata": {
        "colab": {
          "base_uri": "https://localhost:8080/",
          "height": 89
        },
        "id": "X4n_5Vj9Q-eZ",
        "outputId": "ee16905e-7b21-4198-976d-3e83f1589ca7"
      },
      "execution_count": 50,
      "outputs": [
        {
          "output_type": "execute_result",
          "data": {
            "text/plain": [
              "'Michelle Here are my very minor comments.\\nHowever we still need to wait on any additions, based on meeting with SME\\'s today.\\nOne concern is the firing of the learner who performs  bad in the final two scenarios.\\nDo we face any copyright issues using the CNN type themes?\\nIn addition, I think we need to stay clear of anything that remotely seems like California or anything that really happen with Enron?\\n(i.e.\\nSo-cal Waha) In addition, comments on regulatory issues may be a problem (i.e.\\nCalifornia Legislature).\\nSheri  When you read all the scripts together and due to the similar mechanics being taught it appears very repetitious.\\nThus I do believe we need to maybe use a \"Dateline\" type theme for one, and a \"60 Minute\" type theme for another scenario vice just the CNN type theme.\\nIn the last two scenarios can we include a promotion out of the associate program for the stellar performers (i.e.\\ntitle change to manager)?\\nCheers Kirk'"
            ],
            "application/vnd.google.colaboratory.intrinsic+json": {
              "type": "string"
            }
          },
          "metadata": {},
          "execution_count": 50
        }
      ]
    },
    {
      "cell_type": "code",
      "source": [
        "test_df.iloc[3].subject"
      ],
      "metadata": {
        "colab": {
          "base_uri": "https://localhost:8080/",
          "height": 36
        },
        "id": "HKy2c_IHRPJT",
        "outputId": "d69c7ef8-e828-4e89-904e-23f327307658"
      },
      "execution_count": 54,
      "outputs": [
        {
          "output_type": "execute_result",
          "data": {
            "text/plain": [
              "'RM Simulation Storyline Scripts - Ready for Legal Review'"
            ],
            "application/vnd.google.colaboratory.intrinsic+json": {
              "type": "string"
            }
          },
          "metadata": {},
          "execution_count": 54
        }
      ]
    },
    {
      "cell_type": "code",
      "source": [
        "# Prompt the user to enter text for summarization\n",
        "text = \"\"\"\n",
        "Michelle Here are my very minor comments.\n",
        "However we still need to wait on any additions, based on meeting with SME's today.\n",
        "One concern is the firing of the learner who performs  bad in the final two scenarios.\n",
        "Do we face any copyright issues using the CNN type themes?\n",
        "In addition, I think we need to stay clear of anything that remotely seems like California or anything that really happen with Enron?\n",
        "(i.e.So-cal Waha) In addition, comments on regulatory issues may be a problem (i.e.California Legislature).\n",
        "Sheri  When you read all the scripts together and due to the similar mechanics being taught it appears very repetitious.\n",
        "Thus I do believe we need to maybe use a \"Dateline\" type theme for one, and a \"60 Minute\" type theme for another scenario vice just the CNN type theme.\n",
        "In the last two scenarios can we include a promotion out of the associate program for the stellar performers (i.e.title change to manager)?\n",
        "Cheers Kirk\n",
        "\"\"\"\n",
        "\n",
        "\n",
        "# Call the summarize_text function to generate a summary of the input text\n",
        "summary = summarize_text(text)\n",
        "\n",
        "# Print the generated summary\n",
        "print(summary)"
      ],
      "metadata": {
        "colab": {
          "base_uri": "https://localhost:8080/"
        },
        "id": "3fE8U5gBQ6nG",
        "outputId": "62e796b9-6327-4d03-df58-f05993134c83"
      },
      "execution_count": 104,
      "outputs": [
        {
          "output_type": "stream",
          "name": "stdout",
          "text": [
            "Comments from SME's\n"
          ]
        }
      ]
    },
    {
      "cell_type": "code",
      "source": [
        "#!pip install rouge_score"
      ],
      "metadata": {
        "id": "2nbmUSbURMBl"
      },
      "execution_count": 56,
      "outputs": []
    },
    {
      "cell_type": "code",
      "source": [
        "test_gen_subjects = []\n",
        "test_actual_subjects = []\n",
        "\n",
        "for i, row in test_df.iterrows():\n",
        "    text = row['text']\n",
        "    summary = row['subject']\n",
        "    test_gen_subjects.append(summarize_text(text))\n",
        "    test_actual_subjects.append(summary)"
      ],
      "metadata": {
        "id": "cLKzY2XKSO1D"
      },
      "execution_count": 61,
      "outputs": []
    },
    {
      "cell_type": "code",
      "source": [
        "test_rouge_score = rouge.compute(predictions=test_gen_subjects, references=test_actual_subjects)\n",
        "print(test_rouge_score)"
      ],
      "metadata": {
        "colab": {
          "base_uri": "https://localhost:8080/"
        },
        "id": "FWU0_xGeXcMk",
        "outputId": "8d794229-0df5-4387-803e-4bef42c12181"
      },
      "execution_count": 62,
      "outputs": [
        {
          "output_type": "stream",
          "name": "stdout",
          "text": [
            "{'rouge1': AggregateScore(low=Score(precision=0.18275694444444446, recall=0.13328067765567767, fmeasure=0.1478169575522517), mid=Score(precision=0.3309126984126984, recall=0.2541208791208791, fmeasure=0.26425393234216765), high=Score(precision=0.5080575396825396, recall=0.39881581959706963, fmeasure=0.4008960892049126)), 'rouge2': AggregateScore(low=Score(precision=0.04166666666666667, recall=0.032916666666667045, fmeasure=0.028482142857142942), mid=Score(precision=0.15833333333333335, recall=0.13333333333333333, fmeasure=0.13690476190476192), high=Score(precision=0.31687499999999985, recall=0.2833333333333333, fmeasure=0.28217261904761903)), 'rougeL': AggregateScore(low=Score(precision=0.17664087301587306, recall=0.13506639194139194, fmeasure=0.14514783990519284), mid=Score(precision=0.33331349206349203, recall=0.25934065934065936, fmeasure=0.26551282051282055), high=Score(precision=0.49573015873015874, recall=0.40001488095238086, fmeasure=0.4039565826330531)), 'rougeLsum': AggregateScore(low=Score(precision=0.17554166666666668, recall=0.13716346153846157, fmeasure=0.14314425770308126), mid=Score(precision=0.33378968253968255, recall=0.25503663003663, fmeasure=0.2653129713423831), high=Score(precision=0.49407242063492046, recall=0.4089205586080586, fmeasure=0.4035192577030811))}\n"
          ]
        }
      ]
    },
    {
      "cell_type": "code",
      "source": [
        "test_gen_subjects"
      ],
      "metadata": {
        "colab": {
          "base_uri": "https://localhost:8080/"
        },
        "id": "AXFE0cj5XmZD",
        "outputId": "e4f06869-5752-432e-d982-79fa2b0693e2"
      },
      "execution_count": 63,
      "outputs": [
        {
          "output_type": "execute_result",
          "data": {
            "text/plain": [
              "['updated title policy',\n",
              " 'Expense Reports Awaiting Your Approval',\n",
              " 'Netco Re-start/Integration Plans',\n",
              " 'Minor comments',\n",
              " 'Increasing the PSA account balance',\n",
              " 'BCP Seats',\n",
              " 'We wish to toast the good times and special memories that we have shared with you over the past five years.',\n",
              " \"Let's Go For A Ride\",\n",
              " 'ENA Recruiting dates',\n",
              " 'An Inbound Message For You Has Been Quarantined',\n",
              " 'CORRECTION: Welcome to Enron',\n",
              " 'Netco Meeting',\n",
              " 'STEAG',\n",
              " 'ConEd bid documents for PJM East (Lakewood, New Jersey)',\n",
              " 'URGENT REQUIRES',\n",
              " 'CORRECTION: ENRON STOCK FUND',\n",
              " 'Employee Agreement',\n",
              " 'Important Information from UBS Wallingford',\n",
              " 'Benefit Golf Tournament',\n",
              " 'CORRECTION:  Outlook Outage - Friday, December 28, 2001']"
            ]
          },
          "metadata": {},
          "execution_count": 63
        }
      ]
    },
    {
      "cell_type": "code",
      "source": [
        "test_actual_subjects"
      ],
      "metadata": {
        "colab": {
          "base_uri": "https://localhost:8080/"
        },
        "id": "5zfnezrTYTVD",
        "outputId": "59d27c6f-0e77-4017-c817-817b1825de36"
      },
      "execution_count": 64,
      "outputs": [
        {
          "output_type": "execute_result",
          "data": {
            "text/plain": [
              "['Huntley/question',\n",
              " 'Expense Reports Awaiting Your Approval',\n",
              " 'Re-start/Integration Planning',\n",
              " 'RM Simulation Storyline Scripts - Ready for Legal Review',\n",
              " 'Answer',\n",
              " 'BCP Seat Assignments',\n",
              " 'Farewell Drinks',\n",
              " 'Slide for John Sheriff',\n",
              " 'URGENT - ENA Associates & Analysts',\n",
              " 'Increased Security at Enron Center',\n",
              " 'Greetings',\n",
              " 'Meeting on Wednesday, January 2 - 9:30 am',\n",
              " 'STEAG Power LLC',\n",
              " 'ConEd - Lakewood Peaker',\n",
              " 'Relocation',\n",
              " 'IMPORTANT MESSAGE TO ALL EMPLOYEES PARTICIPATING IN THE ENRON CORP  SAVINGS & ESOP PLANS',\n",
              " 'UBS issues',\n",
              " 'YOU HAVE 48 HOURS - Message from Louise Kitchen',\n",
              " 'Sunshine Kids Benefit Golf Tournament - March 18th',\n",
              " 'NOTIFICATION:  Outlook Outage - Friday, December 28, 2001']"
            ]
          },
          "metadata": {},
          "execution_count": 64
        }
      ]
    },
    {
      "cell_type": "code",
      "source": [],
      "metadata": {
        "id": "Q7fMAiEWYVGT"
      },
      "execution_count": null,
      "outputs": []
    }
  ]
}